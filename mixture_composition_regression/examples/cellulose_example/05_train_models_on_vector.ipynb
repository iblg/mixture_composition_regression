{
 "cells": [
  {
   "cell_type": "code",
   "execution_count": 13,
   "id": "654a1ced",
   "metadata": {},
   "outputs": [],
   "source": [
    "# import basic packages\n",
    "import numpy as np\n",
    "import pandas as pd\n",
    "import matplotlib.pyplot as plt\n",
    "import xarray as xr\n",
    "\n",
    "#import stuff from the mixture_composition_regression package\n",
    "from mixture_composition_regression.examples.load_dipa_water_nacl_training_set import load_training_set\n",
    "from mixture_composition_regression.cross_validation import cv_on_model_and_wavelength\n",
    "from mixture_composition_regression.import_spectrum import clean_data\n",
    "from mixture_composition_regression.sample import Sample\n",
    "from mixture_composition_regression.mixture import Mixture\n",
    "from mixture_composition_regression.preprocessor_pipeline import get_Xy\n",
    "from mixture_composition_regression.gridsearch_dataset import grid_search_dataset\n",
    "\n",
    "# import needed packages from scikit-learn\n",
    "from sklearn.model_selection import train_test_split\n",
    "from sklearn.metrics import mean_absolute_error\n",
    "from sklearn.model_selection import GridSearchCV\n",
    "from sklearn.linear_model import Ridge\n",
    "from sklearn.neural_network import MLPRegressor\n",
    "from sklearn.neighbors import KNeighborsRegressor\n",
    "from sklearn.svm import SVR\n",
    "from sklearn.kernel_ridge import KernelRidge\n",
    "from sklearn.decomposition import PCA, NMF\n",
    "from sklearn.cross_decomposition import PLSRegression\n",
    "from sklearn.tree import DecisionTreeRegressor\n",
    "import os"
   ]
  },
  {
   "cell_type": "code",
   "execution_count": 14,
   "id": "533fa892",
   "metadata": {},
   "outputs": [
    {
     "name": "stdout",
     "output_type": "stream",
     "text": [
      "Checking samples in mixture None\n"
     ]
    }
   ],
   "source": [
    "# set the current working directory\n",
    "cwd = '/Users/ianbillinge/dev/mixture_composition_regression/mixture_composition_regression/examples/cellulose_example/'\n",
    "# cwd = '/Users/Ankit/projects/mixture_composition_regression/mixture_composition_regression/examples/cellulose_example/'\n",
    "\n",
    "# read and clean the training spectra\n",
    "file = os.path.join(os.sep, cwd, 'all_spectra.csv')\n",
    "df = clean_data(file)\n",
    "\n",
    "# read and clean target data (weight fraction).\n",
    "w_file = os.path.join(os.sep, cwd, 'composition.csv')\n",
    "composition = pd.read_csv(w_file)\n",
    "\n",
    "# get a list of sample names\n",
    "samples = np.array(composition.columns)[1:]\n",
    "\n",
    "cp = {'name': ['cellulose', 'hemicellulose', 'lignin'],\n",
    "      'mw': [1, 1, 1],\n",
    "      'nu': [1, 1, 1]}\n",
    "\n",
    "# create a list of Sample objects (one for each spectrum you collected)\n",
    "ds = []\n",
    "for s in samples:\n",
    "    ds.append(Sample(s, df, x_col_name='wavenumber', a_col_name=s, \n",
    "                     chem_properties=cp, w=list(composition[s]/100.),\n",
    "                    xbounds = [500, 3900]))\n",
    "\n",
    "# create a mixture_composition_regression.Mixture object\n",
    "# NOTE: I will probably remove the Mixture object from the package in the future, \n",
    "# and I do the regression without using the Mixture, but there are some plotting things that are quite nice.\n",
    "mix = Mixture(ds)"
   ]
  },
  {
   "cell_type": "code",
   "execution_count": null,
   "id": "d5620d13-23fa-4347-b7a3-5d0b796cb306",
   "metadata": {
    "tags": []
   },
   "outputs": [],
   "source": []
  },
  {
   "cell_type": "code",
   "execution_count": 24,
   "id": "1d7a25f4",
   "metadata": {},
   "outputs": [],
   "source": [
    "# create an xarray.Dataset object containing data on the absorption, 'a', and the first and second derivatives\n",
    "# of the absorption, 'da', and 'd2a'.\n",
    "da_list = [i.da for i in ds]\n",
    "a = xr.combine_by_coords(da_list)\n",
    "dataset = xr.Dataset(data_vars = {'a':a, 'da':a.diff('x'), 'd2a':a.diff('x', 2)})\n",
    "\n",
    "\n",
    "\n",
    "# select whether you want to regress on raw spectral data or its derivatives.\n",
    "# you can only select one.\n",
    "regressand = 'a' \n",
    "# regressand = 'da'\n",
    "# regressand = 'd2a'\n",
    "\n",
    "# do a test-train split. Here we have specified a replicable random state, but this can be removed if you want\n",
    "# a non-replicable one. You can also modify the portion of the data reserved for testing.\n",
    "mix_train, mix_test = train_test_split(dataset[regressand], \n",
    "                                       test_size=0.2, \n",
    "                                       random_state=1\n",
    "                                      )"
   ]
  },
  {
   "cell_type": "markdown",
   "id": "46ecbfcd",
   "metadata": {},
   "source": [
    "Here, we initialize all of the different regressors we will try. The code will run GridSearchCV on all of them, basically going through and doing an exhaustive search on all the parameter options (e.g. Ridge regression with alpha = 10**(-7), then 10**(-6)... then 10**(7))"
   ]
  },
  {
   "cell_type": "code",
   "execution_count": 25,
   "id": "3e45a0f9",
   "metadata": {},
   "outputs": [],
   "source": [
    "sc = 'neg_mean_absolute_error' # other scoring methods are available... \n",
    "                               # see anything under 'Regression' at scikit-learn.org/stable/modules/model_evaluation.html\n",
    "cv_number = 5"
   ]
  },
  {
   "cell_type": "code",
   "execution_count": 26,
   "id": "837ac6ea",
   "metadata": {},
   "outputs": [],
   "source": [
    "ridge_param_grid = {'alpha': np.logspace(-7, 7, 14)}\n",
    "\n",
    "ridge = GridSearchCV(\n",
    "    Ridge(), \n",
    "    param_grid = ridge_param_grid, \n",
    "    scoring=sc, \n",
    "    cv=cv_number\n",
    ")\n",
    "\n",
    "\n",
    "kr_param_grid = {'kernel': [\"rbf\", 'linear'],\n",
    "                \"alpha\": np.logspace(-7, 7, 11),\n",
    "                \"gamma\": np.logspace(-7, 7, 11)\n",
    "                }\n",
    "\n",
    "kr = GridSearchCV(\n",
    "    KernelRidge(),\n",
    "    param_grid=kr_param_grid,\n",
    "    scoring=sc,\n",
    "    cv = cv_number\n",
    ")\n",
    "\n",
    "svr_param_grid = {'kernel': ['linear', \n",
    "#                              'rbf'\n",
    "                            ],\n",
    "     'gamma': ['scale', 'auto'],\n",
    "     'epsilon': np.logspace(-7, 7, 10)\n",
    "     }\n",
    "\n",
    "svr = GridSearchCV(\n",
    "    SVR(),\n",
    "    param_grid=svr_param_grid,\n",
    "    scoring=sc,\n",
    "    cv = cv_number\n",
    ")\n",
    "\n",
    "knnr_param_grid = {'n_neighbors': 5 + np.arange(5)}\n",
    "knnr = GridSearchCV(\n",
    "    KNeighborsRegressor(), param_grid=knnr_param_grid, scoring=sc\n",
    ")\n",
    "\n",
    "mlp = GridSearchCV(\n",
    "    MLPRegressor(solver='lbfgs', max_iter=400),\n",
    "    param_grid = {'hidden_layer_sizes': [10, 50, 100]},\n",
    "    scoring=sc,\n",
    "    cv=cv_number\n",
    ")\n",
    "\n",
    "pls = GridSearchCV(\n",
    "    PLSRegression(),\n",
    "    param_grid = {'n_components': [2, 3, 4, 6, 8]},\n",
    "    scoring=sc,\n",
    "    cv=cv_number\n",
    "\n",
    ")\n",
    "\n",
    "dtr = GridSearchCV(\n",
    "    DecisionTreeRegressor(),\n",
    "    param_grid = {'max_depth': [2, \n",
    "#                                 3, \n",
    "#                                 5\n",
    "                               ],\n",
    "                  'min_samples_split': [2, 3]},\n",
    "    scoring = sc,\n",
    "    cv=cv_number\n",
    ") \n",
    "\n",
    "nmf = GridSearchCV(\n",
    "    NMF(),\n",
    "    param_grid = {'n_components':[2,3,4,5]},\n",
    "    scoring = sc,\n",
    "    cv = cv_number\n",
    ")\n",
    "    # Decision tree regression is currently giving very good results... I am very worried that it is over-fitting.\n",
    "# You can of course make the final call."
   ]
  },
  {
   "cell_type": "markdown",
   "id": "7b65ea19",
   "metadata": {},
   "source": [
    "Decide the number of windows you want to break your spectrum into. If nwindows=1, the whole spectrum will be fed into the machine learning model.\n",
    "\n",
    "If nwindows=10, the spectrum will be split into 10, and each sub spectrum will be fed into the machine learning model.\n",
    "\n",
    "If nwindows is a list, the code will try all of them in sequence."
   ]
  },
  {
   "cell_type": "code",
   "execution_count": 27,
   "id": "98f054de",
   "metadata": {},
   "outputs": [],
   "source": [
    "nwindows = [\n",
    "    1,\n",
    "    5,\n",
    "    # 10,\n",
    "    # 50,\n",
    "    # 100\n",
    "           ]"
   ]
  },
  {
   "cell_type": "code",
   "execution_count": 28,
   "id": "11190555",
   "metadata": {},
   "outputs": [],
   "source": [
    "random_state = 1\n",
    "# random_state = None # specify a replicable random split; this line can be set to None if not desired.\n",
    "tts_size = 0.25 # reserve 1/4 of the data for testing.\n",
    "\n",
    "# Specify a metric by which to compare models. Currently set to mean absolute error.\n",
    "# Other metrics available at scikit-learn.org/stable/modules/model_evaluation.html\n",
    "\n",
    "metric = mean_absolute_error\n",
    "metric_label = 'MAE'"
   ]
  },
  {
   "cell_type": "markdown",
   "id": "9b6097a1",
   "metadata": {},
   "source": [
    "Specify the list of machine learning models you wish to consider."
   ]
  },
  {
   "cell_type": "code",
   "execution_count": 33,
   "id": "dccb014a",
   "metadata": {},
   "outputs": [],
   "source": [
    "cv_models = [\n",
    "   ridge,\n",
    "    pls,\n",
    "   dtr,\n",
    "   kr,\n",
    "    # svr,\n",
    "    knnr,\n",
    "    # mlp,\n",
    "    # nmf,\n",
    "]"
   ]
  },
  {
   "cell_type": "code",
   "execution_count": null,
   "id": "29effe25-151a-422d-9e14-008f0d292b1b",
   "metadata": {
    "tags": []
   },
   "outputs": [],
   "source": []
  },
  {
   "cell_type": "code",
   "execution_count": 34,
   "id": "29f82a08",
   "metadata": {},
   "outputs": [
    {
     "name": "stdout",
     "output_type": "stream",
     "text": [
      "Running analysis splitting interval into 1 windows.\n",
      "Running analysis on Ridge()\n",
      "we have a new best model!\n",
      "current score: 0.1477288757432544\n",
      "Running analysis on PLSRegression()\n",
      "we have a new best model!\n",
      "current score: 0.09114630421375414\n",
      "Running analysis on DecisionTreeRegressor()\n",
      "Running analysis on KernelRidge()\n",
      "we have a new best model!\n",
      "current score: 0.0845995091675089\n",
      "Running analysis on KNeighborsRegressor()\n",
      "Running analysis splitting interval into 5 windows.\n",
      "Running analysis on Ridge()\n",
      "we have a new best model!\n",
      "current score: 0.07807434855270569\n",
      "Running analysis on PLSRegression()\n",
      "Running analysis on DecisionTreeRegressor()\n",
      "Running analysis on KernelRidge()\n",
      "we have a new best model!\n",
      "current score: 0.06064982539496417\n",
      "Running analysis on KNeighborsRegressor()\n"
     ]
    },
    {
     "data": {
      "image/png": "[encoded data removed]",
      "text/plain": [
       "<Figure size 500x500 with 1 Axes>"
      ]
     },
     "metadata": {},
     "output_type": "display_data"
    }
   ],
   "source": [
    "viable_models, bestmodel_container, y_best, X_best = grid_search_dataset(\n",
    "    mix_train,\n",
    "    nwindows,\n",
    "    cv_models,\n",
    "    target_chem=cp['name'],\n",
    "    # target_chem='cellulose',\n",
    "#     test_data=mix_test,\n",
    "    test_data=None, # random selection of test data\n",
    "    tts_test_size=tts_size,\n",
    "    tts_random_state=random_state,\n",
    "    tolerance=0.01,\n",
    "    metric=metric,\n",
    "    metric_label=metric_label,\n",
    "    x_bounds=None, # here is where you could restrict your spectral range\n",
    "    plot_comparison=True,\n",
    "    plot_comparison_savefile='./plots/axes_train'\n",
    ")\n"
   ]
  },
  {
   "cell_type": "code",
   "execution_count": 35,
   "id": "e0840a0c-761b-4fb9-b8b2-caef12ffd653",
   "metadata": {
    "tags": []
   },
   "outputs": [
    {
     "data": {
      "text/html": [
       "<style>#sk-container-id-2 {color: black;background-color: white;}#sk-container-id-2 pre{padding: 0;}#sk-container-id-2 div.sk-toggleable {background-color: white;}#sk-container-id-2 label.sk-toggleable__label {cursor: pointer;display: block;width: 100%;margin-bottom: 0;padding: 0.3em;box-sizing: border-box;text-align: center;}#sk-container-id-2 label.sk-toggleable__label-arrow:before {content: \"▸\";float: left;margin-right: 0.25em;color: #696969;}#sk-container-id-2 label.sk-toggleable__label-arrow:hover:before {color: black;}#sk-container-id-2 div.sk-estimator:hover label.sk-toggleable__label-arrow:before {color: black;}#sk-container-id-2 div.sk-toggleable__content {max-height: 0;max-width: 0;overflow: hidden;text-align: left;background-color: #f0f8ff;}#sk-container-id-2 div.sk-toggleable__content pre {margin: 0.2em;color: black;border-radius: 0.25em;background-color: #f0f8ff;}#sk-container-id-2 input.sk-toggleable__control:checked~div.sk-toggleable__content {max-height: 200px;max-width: 100%;overflow: auto;}#sk-container-id-2 input.sk-toggleable__control:checked~label.sk-toggleable__label-arrow:before {content: \"▾\";}#sk-container-id-2 div.sk-estimator input.sk-toggleable__control:checked~label.sk-toggleable__label {background-color: #d4ebff;}#sk-container-id-2 div.sk-label input.sk-toggleable__control:checked~label.sk-toggleable__label {background-color: #d4ebff;}#sk-container-id-2 input.sk-hidden--visually {border: 0;clip: rect(1px 1px 1px 1px);clip: rect(1px, 1px, 1px, 1px);height: 1px;margin: -1px;overflow: hidden;padding: 0;position: absolute;width: 1px;}#sk-container-id-2 div.sk-estimator {font-family: monospace;background-color: #f0f8ff;border: 1px dotted black;border-radius: 0.25em;box-sizing: border-box;margin-bottom: 0.5em;}#sk-container-id-2 div.sk-estimator:hover {background-color: #d4ebff;}#sk-container-id-2 div.sk-parallel-item::after {content: \"\";width: 100%;border-bottom: 1px solid gray;flex-grow: 1;}#sk-container-id-2 div.sk-label:hover label.sk-toggleable__label {background-color: #d4ebff;}#sk-container-id-2 div.sk-serial::before {content: \"\";position: absolute;border-left: 1px solid gray;box-sizing: border-box;top: 0;bottom: 0;left: 50%;z-index: 0;}#sk-container-id-2 div.sk-serial {display: flex;flex-direction: column;align-items: center;background-color: white;padding-right: 0.2em;padding-left: 0.2em;position: relative;}#sk-container-id-2 div.sk-item {position: relative;z-index: 1;}#sk-container-id-2 div.sk-parallel {display: flex;align-items: stretch;justify-content: center;background-color: white;position: relative;}#sk-container-id-2 div.sk-item::before, #sk-container-id-2 div.sk-parallel-item::before {content: \"\";position: absolute;border-left: 1px solid gray;box-sizing: border-box;top: 0;bottom: 0;left: 50%;z-index: -1;}#sk-container-id-2 div.sk-parallel-item {display: flex;flex-direction: column;z-index: 1;position: relative;background-color: white;}#sk-container-id-2 div.sk-parallel-item:first-child::after {align-self: flex-end;width: 50%;}#sk-container-id-2 div.sk-parallel-item:last-child::after {align-self: flex-start;width: 50%;}#sk-container-id-2 div.sk-parallel-item:only-child::after {width: 0;}#sk-container-id-2 div.sk-dashed-wrapped {border: 1px dashed gray;margin: 0 0.4em 0.5em 0.4em;box-sizing: border-box;padding-bottom: 0.4em;background-color: white;}#sk-container-id-2 div.sk-label label {font-family: monospace;font-weight: bold;display: inline-block;line-height: 1.2em;}#sk-container-id-2 div.sk-label-container {text-align: center;}#sk-container-id-2 div.sk-container {/* jupyter's `normalize.less` sets `[hidden] { display: none; }` but bootstrap.min.css set `[hidden] { display: none !important; }` so we also need the `!important` here to be able to override the default hidden behavior on the sphinx rendered scikit-learn.org. See: https://github.com/scikit-learn/scikit-learn/issues/21755 */display: inline-block !important;position: relative;}#sk-container-id-2 div.sk-text-repr-fallback {display: none;}</style><div id=\"sk-container-id-2\" class=\"sk-top-container\"><div class=\"sk-text-repr-fallback\"><pre>KernelRidge(alpha=6.309573444801929e-05, gamma=0.03981071705534969,\n",
       "            kernel=&#x27;rbf&#x27;)</pre><b>In a Jupyter environment, please rerun this cell to show the HTML representation or trust the notebook. <br />On GitHub, the HTML representation is unable to render, please try loading this page with nbviewer.org.</b></div><div class=\"sk-container\" hidden><div class=\"sk-item\"><div class=\"sk-estimator sk-toggleable\"><input class=\"sk-toggleable__control sk-hidden--visually\" id=\"sk-estimator-id-2\" type=\"checkbox\" checked><label for=\"sk-estimator-id-2\" class=\"sk-toggleable__label sk-toggleable__label-arrow\">KernelRidge</label><div class=\"sk-toggleable__content\"><pre>KernelRidge(alpha=6.309573444801929e-05, gamma=0.03981071705534969,\n",
       "            kernel=&#x27;rbf&#x27;)</pre></div></div></div></div></div>"
      ],
      "text/plain": [
       "KernelRidge(alpha=6.309573444801929e-05, gamma=0.03981071705534969,\n",
       "            kernel='rbf')"
      ]
     },
     "execution_count": 35,
     "metadata": {},
     "output_type": "execute_result"
    }
   ],
   "source": [
    "bestmodel_container[0]"
   ]
  },
  {
   "cell_type": "markdown",
   "id": "71e08792",
   "metadata": {
    "tags": []
   },
   "source": [
    "### Save the trained models!"
   ]
  },
  {
   "cell_type": "code",
   "execution_count": 37,
   "id": "20a3f2a6",
   "metadata": {
    "scrolled": true
   },
   "outputs": [
    {
     "name": "stdout",
     "output_type": "stream",
     "text": [
      "['./trained_models/all_predictor_meta.txt']\n"
     ]
    }
   ],
   "source": [
    "import pickle\n",
    "\n",
    "predictors = [bestmodel_container[0]]\n",
    "predictor_ranges = [bestmodel_container[1]]\n",
    "\n",
    "predictor_files = ['all_predictor.pkl']\n",
    "predictor_files = ['./trained_models/' + p for p in predictor_files]\n",
    "\n",
    "for p, f in zip(predictors, predictor_files):\n",
    "    with open(f, 'wb') as file:  \n",
    "        pickle.dump(p, file)\n",
    "        \n",
    "predictor_metadata_files = [p.split('.pkl')[0] + '_meta.txt' for p in predictor_files] \n",
    "print(predictor_metadata_files)\n",
    "\n",
    "for r, f in zip(predictor_ranges, predictor_metadata_files):\n",
    "    with open(f, 'w') as file:\n",
    "        for i in r:\n",
    "            file.write(str(i) + '\\n')\n"
   ]
  },
  {
   "cell_type": "code",
   "execution_count": 43,
   "id": "7274b8f3",
   "metadata": {},
   "outputs": [],
   "source": [
    "def predict_on_test_csvs(fpath, bestmodel_container, regressand, target, sample_name=None, print_sample=False, printres=False):\n",
    "    new_data = pd.read_csv(fpath, \n",
    "#                        names=['wavenumber', 'absorbance'], \n",
    "                       header=0, # it was reading in the first row as data and causing problems. So I just had it read the column namese from the first row\n",
    "                       dtype='float')  \n",
    "    \n",
    "    # renamed for less typing, but you can absolutely get rid of these column names and just rename to your preference\n",
    "    new_data = new_data.rename(columns={new_data.columns[0]:'x', new_data.columns[1]:'y'}) \n",
    "\n",
    "    # because if you look higher in the code, we are currently regressing on the derivative of the data\n",
    "    # so I calculated the derivative here\n",
    "    if regressand == 'a':\n",
    "        new_data[regressand] = new_data['y']\n",
    "    if regressand == 'da':\n",
    "        new_data[regressand] = new_data['y'].diff() \n",
    "    elif regressand == 'd2a':\n",
    "        new_data[regressand] = new_data['y'].diff(order=2)\n",
    "\n",
    "\n",
    "    # get the wavelength window we care about and slice the data, only keeping that stuff\n",
    "    window = bestmodel_container[1] \n",
    "    new_data = new_data.where(new_data['x'] > window[0]).where(new_data['x'] < window[1]).dropna()\n",
    "    new_data_dy = np.array(new_data[regressand]).reshape(1,-1)\n",
    "\n",
    "    predictor = bestmodel_container[0]\n",
    "    prediction = predictor.predict(new_data_dy)\n",
    "    print(prediction)\n",
    "#     # discard unwanted nested lists\n",
    "#     for i in prediction.shape:\n",
    "#         prediction = prediction[0] \n",
    "        \n",
    "    if print_sample is True:\n",
    "        print('Sample: {}'.format(sample_name))\n",
    "        \n",
    "    if printres:\n",
    "        print(\"predicted composition {} {:1.3f}\".format(target, prediction))\n",
    "    return prediction"
   ]
  },
  {
   "cell_type": "code",
   "execution_count": 47,
   "id": "e61716fa",
   "metadata": {},
   "outputs": [
    {
     "name": "stdout",
     "output_type": "stream",
     "text": [
      "T2-1\n",
      "[[0.36265455 0.09742723 0.5399977 ]]\n",
      "T2-3\n",
      "[[0.1596477  0.10469011 0.73553998]]\n",
      "T2-2\n",
      "[[0.25263733 0.07896167 0.66827485]]\n",
      "T4-1\n",
      "[[0.3431317  0.25448254 0.40309663]]\n",
      "T4-3\n",
      "[[0.11793533 0.42206142 0.46144   ]]\n",
      "T4-2\n",
      "[[0.24856198 0.33198034 0.42066003]]\n",
      "T3-3\n",
      "[[0.29689038 0.46856286 0.23554183]]\n",
      "T1-1\n",
      "[[0.38261349 0.51517721 0.10219999]]\n",
      "T3-2\n",
      "[[0.3668602  0.45729424 0.17680189]]\n",
      "T1-2\n",
      "[[0.48930282 0.32734409 0.18203362]]\n",
      "T1-3\n",
      "[[0.29555981 0.50860353 0.1965148 ]]\n",
      "T3-1\n",
      "[[0.46071645 0.34762885 0.19217751]]\n",
      "T5-3\n",
      "[[0.19850614 0.21141376 0.59098493]]\n",
      "T5-2\n",
      "[[0.2557925  0.17661884 0.56831544]]\n",
      "T5-1\n",
      "[[0.23173457 0.15597502 0.61269814]]\n"
     ]
    }
   ],
   "source": [
    "fpaths = [i for i in os.listdir() if ('-' in i and ('.csv' in i or '.CSV' in i))]\n",
    "c_list = []\n",
    "sample_names = [i.split('.')[0] for i in fpaths]\n",
    "regressand = 'a'\n",
    "for f, n in zip(fpaths, sample_names):\n",
    "    print(n)\n",
    "    c_list.append(predict_on_test_csvs(f, bestmodel_container, regressand, 'all',sample_name=n, print_sample = False, printres=False))\n"
   ]
  },
  {
   "cell_type": "code",
   "execution_count": null,
   "id": "65217c06-4e8a-429a-a77a-ca746f7b6817",
   "metadata": {},
   "outputs": [],
   "source": []
  }
 ],
 "metadata": {
  "kernelspec": {
   "display_name": "Python 3 (ipykernel)",
   "language": "python",
   "name": "python3"
  },
  "language_info": {
   "codemirror_mode": {
    "name": "ipython",
    "version": 3
   },
   "file_extension": ".py",
   "mimetype": "text/x-python",
   "name": "python",
   "nbconvert_exporter": "python",
   "pygments_lexer": "ipython3",
   "version": "3.11.0"
  }
 },
 "nbformat": 4,
 "nbformat_minor": 5
}
