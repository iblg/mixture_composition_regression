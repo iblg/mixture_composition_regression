{
 "cells": [
  {
   "cell_type": "code",
   "execution_count": 1,
   "id": "654a1ced",
   "metadata": {},
   "outputs": [],
   "source": [
    "# import basic packages\n",
    "import numpy as np\n",
    "import pandas as pd\n",
    "import matplotlib.pyplot as plt\n",
    "import xarray as xr\n",
    "\n",
    "#import stuff from the mixture_composition_regression package\n",
    "from mixture_composition_regression.examples.load_dipa_water_nacl_training_set import load_training_set\n",
    "from mixture_composition_regression.cross_validation import cv_on_model_and_wavelength\n",
    "from mixture_composition_regression.import_spectrum import clean_data\n",
    "from mixture_composition_regression.sample import Sample\n",
    "from mixture_composition_regression.mixture import Mixture\n",
    "from mixture_composition_regression.preprocessor_pipeline import get_Xy\n",
    "from mixture_composition_regression.gridsearch_dataset import grid_search_dataset\n",
    "\n",
    "# import needed packages from scikit-learn\n",
    "from sklearn.model_selection import train_test_split\n",
    "from sklearn.metrics import mean_absolute_error\n",
    "from sklearn.model_selection import GridSearchCV\n",
    "from sklearn.linear_model import Ridge\n",
    "from sklearn.neural_network import MLPRegressor\n",
    "from sklearn.neighbors import KNeighborsRegressor\n",
    "from sklearn.svm import SVR\n",
    "from sklearn.kernel_ridge import KernelRidge\n",
    "from sklearn.decomposition import PCA\n",
    "from sklearn.cross_decomposition import PLSRegression\n",
    "from sklearn.tree import DecisionTreeRegressor\n",
    "import os"
   ]
  },
  {
   "cell_type": "code",
   "execution_count": 3,
   "id": "533fa892",
   "metadata": {},
   "outputs": [
    {
     "name": "stdout",
     "output_type": "stream",
     "text": [
      "Checking samples in mixture None\n"
     ]
    }
   ],
   "source": [
    "# set the current working directory\n",
    "cwd = '/Users/ianbillinge/dev/mixture_composition_regression/mixture_composition_regression/examples/cellulose_example/'\n",
    "# cwd = '/Users/Ankit/projects/mixture_composition_regression/mixture_composition_regression/examples/cellulose_example/'\n",
    "\n",
    "# read and clean the training spectra\n",
    "file = os.path.join(os.sep, cwd, 'all_spectra.csv')\n",
    "df = clean_data(file)\n",
    "\n",
    "# read and clean target data (weight fraction).\n",
    "w_file = os.path.join(os.sep, cwd, 'composition.csv')\n",
    "composition = pd.read_csv(w_file)\n",
    "\n",
    "# get a list of sample names\n",
    "samples = np.array(composition.columns)[1:]\n",
    "\n",
    "cp = {'name': ['cellulose', 'hemicellulose', 'lignin'],\n",
    "      'mw': [1, 1, 1],\n",
    "      'nu': [1, 1, 1]}\n",
    "\n",
    "# create a list of Sample objects (one for each spectrum you collected)\n",
    "ds = []\n",
    "for s in samples:\n",
    "    ds.append(Sample(s, df, x_col_name='wavenumber', a_col_name=s, \n",
    "                     chem_properties=cp, w=list(composition[s]/100.),\n",
    "                    xbounds = [500, 3900]))\n",
    "\n",
    "# create a mixture_composition_regression.Mixture object\n",
    "# NOTE: I will probably remove the Mixture object from the package in the future, \n",
    "# and I do the regression without using the Mixture, but there are some plotting things that are quite nice.\n",
    "mix = Mixture(ds)"
   ]
  },
  {
   "cell_type": "code",
   "execution_count": 4,
   "id": "1d7a25f4",
   "metadata": {},
   "outputs": [],
   "source": [
    "# create an xarray.Dataset object containing data on the absorption, 'a', and the first and second derivatives\n",
    "# of the absorption, 'da', and 'd2a'.\n",
    "da_list = [i.da for i in ds]\n",
    "a = xr.combine_by_coords(da_list)\n",
    "dataset = xr.Dataset(data_vars = {'a':a, 'da':a.diff('x'), 'd2a':a.diff('x', 2)})\n",
    "\n",
    "\n",
    "\n",
    "# select whether you want to regress on raw spectral data or its derivatives.\n",
    "# you can only select one.\n",
    "# regressand = 'a' \n",
    "regressand = 'da'\n",
    "# regressand = 'd2a'\n",
    "\n",
    "# do a test-train split. Here we have specified a replicable random state, but this can be removed if you want\n",
    "# a non-replicable one. You can also modify the portion of the data reserved for testing.\n",
    "mix_train, mix_test = train_test_split(dataset[regressand], \n",
    "                                       test_size=0.2, \n",
    "                                       random_state=1\n",
    "                                      )"
   ]
  },
  {
   "cell_type": "markdown",
   "id": "46ecbfcd",
   "metadata": {},
   "source": [
    "Here, we initialize all of the different regressors we will try. The code will run GridSearchCV on all of them, basically going through and doing an exhaustive search on all the parameter options (e.g. Ridge regression with alpha = 10**(-7), then 10**(-6)... then 10**(7))"
   ]
  },
  {
   "cell_type": "code",
   "execution_count": 5,
   "id": "3e45a0f9",
   "metadata": {},
   "outputs": [],
   "source": [
    "sc = 'neg_mean_absolute_error' # other scoring methods are available... \n",
    "                               # see anything under 'Regression' at scikit-learn.org/stable/modules/model_evaluation.html\n",
    "cv_number = 5"
   ]
  },
  {
   "cell_type": "code",
   "execution_count": 6,
   "id": "837ac6ea",
   "metadata": {},
   "outputs": [],
   "source": [
    "ridge_param_grid = {'alpha': np.logspace(-7, 7, 14)}\n",
    "\n",
    "ridge = GridSearchCV(\n",
    "    Ridge(), \n",
    "    param_grid = ridge_param_grid, \n",
    "    scoring=sc, \n",
    "    cv=cv_number\n",
    ")\n",
    "\n",
    "\n",
    "kr_param_grid = {'kernel': [\"rbf\", 'linear'],\n",
    "                \"alpha\": np.logspace(-7, 7, 11),\n",
    "                \"gamma\": np.logspace(-7, 7, 11)\n",
    "                }\n",
    "\n",
    "kr = GridSearchCV(\n",
    "    KernelRidge(),\n",
    "    param_grid=kr_param_grid,\n",
    "    scoring=sc,\n",
    "    cv = cv_number\n",
    ")\n",
    "\n",
    "svr_param_grid = {'kernel': ['linear', \n",
    "#                              'rbf'\n",
    "                            ],\n",
    "     'gamma': ['scale', 'auto'],\n",
    "     'epsilon': np.logspace(-7, 7, 10)\n",
    "     }\n",
    "\n",
    "svr = GridSearchCV(\n",
    "    SVR(),\n",
    "    param_grid=svr_param_grid,\n",
    "    scoring=sc,\n",
    "    cv = cv_number\n",
    ")\n",
    "\n",
    "knnr_param_grid = {'n_neighbors': 5 + np.arange(5)}\n",
    "knnr = GridSearchCV(\n",
    "    KNeighborsRegressor(), param_grid=knnr_param_grid, scoring=sc\n",
    ")\n",
    "\n",
    "mlp = GridSearchCV(\n",
    "    MLPRegressor(solver='lbfgs', max_iter=400),\n",
    "    param_grid = {'hidden_layer_sizes': [10, 50, 100]},\n",
    "    scoring=sc,\n",
    "    cv=cv_number\n",
    ")\n",
    "\n",
    "pls = GridSearchCV(\n",
    "    PLSRegression(),\n",
    "    param_grid = {'n_components': [2, 4, 6, 8]},\n",
    "    scoring=sc,\n",
    "    cv=cv_number\n",
    "\n",
    ")\n",
    "\n",
    "dtr = GridSearchCV(\n",
    "    DecisionTreeRegressor(),\n",
    "    param_grid = {'max_depth': [2, \n",
    "#                                 3, \n",
    "#                                 5\n",
    "                               ],\n",
    "                  'min_samples_split': [2, 3]},\n",
    "    scoring = sc,\n",
    "    cv=cv_number\n",
    ") # Decision tree regression is currently giving very good results... I am very worried that it is over-fitting.\n",
    "# You can of course make the final call."
   ]
  },
  {
   "cell_type": "markdown",
   "id": "7b65ea19",
   "metadata": {},
   "source": [
    "Decide the number of windows you want to break your spectrum into. If nwindows=1, the whole spectrum will be fed into the machine learning model.\n",
    "\n",
    "If nwindows=10, the spectrum will be split into 10, and each sub spectrum will be fed into the machine learning model.\n",
    "\n",
    "If nwindows is a list, the code will try all of them in sequence."
   ]
  },
  {
   "cell_type": "code",
   "execution_count": 27,
   "id": "98f054de",
   "metadata": {},
   "outputs": [],
   "source": [
    "nwindows = [1, \n",
    "           5,\n",
    "#            10, \n",
    "#             50, \n",
    "#             200\n",
    "           ]"
   ]
  },
  {
   "cell_type": "code",
   "execution_count": 28,
   "id": "11190555",
   "metadata": {},
   "outputs": [],
   "source": [
    "random_state = 1\n",
    "# random_state = None # specify a replicable random split; this line can be set to None if not desired.\n",
    "tts_size = 0.25 # reserve 1/4 of the data for testing.\n",
    "\n",
    "# Specify a metric by which to compare models. Currently set to mean absolute error.\n",
    "# Other metrics available at scikit-learn.org/stable/modules/model_evaluation.html\n",
    "\n",
    "metric = mean_absolute_error\n",
    "metric_label = 'MAE'"
   ]
  },
  {
   "cell_type": "markdown",
   "id": "9b6097a1",
   "metadata": {},
   "source": [
    "Specify the list of machine learning models you wish to consider."
   ]
  },
  {
   "cell_type": "code",
   "execution_count": 29,
   "id": "dccb014a",
   "metadata": {},
   "outputs": [],
   "source": [
    "cv_models = [\n",
    "#    ridge,\n",
    "    pls,\n",
    "#    dtr,\n",
    "#    kr,\n",
    "#     svr,\n",
    "#     knnr,\n",
    "#     mlp,\n",
    "]"
   ]
  },
  {
   "cell_type": "code",
   "execution_count": 30,
   "id": "29f82a08",
   "metadata": {},
   "outputs": [
    {
     "name": "stdout",
     "output_type": "stream",
     "text": [
      "Running analysis splitting interval into 1 windows.\n",
      "Running analysis on PLSRegression()\n",
      "xbounds is not a DataArray or Dataset.\n",
      "xbounds: [ 500.4372 3999.4372]\n",
      "bds:\n",
      "type: <class 'numpy.ndarray'>\n",
      "shape: (7260,)\n",
      "[False  True  True ...  True False False]\n",
      "we have a new best model!\n",
      "current score: 0.09209139224856863\n",
      "Running analysis splitting interval into 5 windows.\n",
      "Running analysis on PLSRegression()\n",
      "xbounds is not a DataArray or Dataset.\n",
      "xbounds: [ 500.4372 1199.4372]\n",
      "bds:\n",
      "type: <class 'numpy.ndarray'>\n",
      "shape: (7260,)\n",
      "[False  True  True ... False False False]\n",
      "we have a new best model!\n",
      "current score: 0.06283817332295248\n",
      "xbounds is not a DataArray or Dataset.\n",
      "xbounds: [1200.60865 1899.60865]\n",
      "bds:\n",
      "type: <class 'numpy.ndarray'>\n",
      "shape: (7260,)\n",
      "[False False False ... False False False]\n",
      "xbounds is not a DataArray or Dataset.\n",
      "xbounds: [1900.7801 2599.7801]\n",
      "bds:\n",
      "type: <class 'numpy.ndarray'>\n",
      "shape: (7260,)\n",
      "[False False False ... False False False]\n",
      "xbounds is not a DataArray or Dataset.\n",
      "xbounds: [2600.95155 3299.95155]\n",
      "bds:\n",
      "type: <class 'numpy.ndarray'>\n",
      "shape: (7260,)\n",
      "[False False False ... False False False]\n",
      "xbounds is not a DataArray or Dataset.\n",
      "xbounds: [3301.123 4000.123]\n",
      "bds:\n",
      "type: <class 'numpy.ndarray'>\n",
      "shape: (7260,)\n",
      "[False False False ...  True  True False]\n",
      "xbounds is not a DataArray or Dataset.\n",
      "xbounds: [ 500.4372 1199.4372]\n",
      "bds:\n",
      "type: <class 'numpy.ndarray'>\n",
      "shape: (7260,)\n",
      "[False  True  True ... False False False]\n"
     ]
    },
    {
     "data": {
      "image/png": "[encoded data removed]",
      "text/plain": [
       "<Figure size 500x500 with 1 Axes>"
      ]
     },
     "metadata": {},
     "output_type": "display_data"
    },
    {
     "name": "stdout",
     "output_type": "stream",
     "text": [
      "xbounds is not a DataArray or Dataset.\n",
      "xbounds: [ 500.4372 1199.4372]\n",
      "bds:\n",
      "type: <class 'numpy.ndarray'>\n",
      "shape: (7260,)\n",
      "[False  True  True ... False False False]\n"
     ]
    }
   ],
   "source": [
    "c_viable_models, c_bestmodel_container, c_y_best, c_X_best = grid_search_dataset(\n",
    "    mix_train,\n",
    "    nwindows,\n",
    "    cv_models,\n",
    "    target_chem='cellulose',\n",
    "#     test_data=mix_test,\n",
    "    test_data=None, # random selection of test data\n",
    "    tts_test_size=tts_size,\n",
    "    tts_random_state=random_state,\n",
    "    tolerance=0.01,\n",
    "    metric=metric,\n",
    "    metric_label=metric_label,\n",
    "    x_bounds=None, # here is where you could restrict your spectral range\n",
    "    plot_comparison=True,\n",
    "    plot_comparison_savefile='./plots/axes_train'\n",
    ")\n"
   ]
  },
  {
   "cell_type": "code",
   "execution_count": 31,
   "id": "a2479253",
   "metadata": {},
   "outputs": [],
   "source": [
    "#best = bestmodel_container[0]\n",
    "#print(bestmodel_container[2])"
   ]
  },
  {
   "cell_type": "code",
   "execution_count": 32,
   "id": "de59aa42",
   "metadata": {},
   "outputs": [],
   "source": [
    "import time"
   ]
  },
  {
   "cell_type": "code",
   "execution_count": 33,
   "id": "7c85e3f9",
   "metadata": {},
   "outputs": [
    {
     "name": "stdout",
     "output_type": "stream",
     "text": [
      "Running analysis splitting interval into 1 windows.\n",
      "Running analysis on PLSRegression()\n",
      "xbounds is not a DataArray or Dataset.\n",
      "xbounds: [ 500.4372 3999.4372]\n",
      "bds:\n",
      "type: <class 'numpy.ndarray'>\n",
      "shape: (7260,)\n",
      "[False  True  True ...  True False False]\n",
      "we have a new best model!\n",
      "current score: 0.11722174888126642\n",
      "Running analysis splitting interval into 5 windows.\n",
      "Running analysis on PLSRegression()\n",
      "xbounds is not a DataArray or Dataset.\n",
      "xbounds: [ 500.4372 1199.4372]\n",
      "bds:\n",
      "type: <class 'numpy.ndarray'>\n",
      "shape: (7260,)\n",
      "[False  True  True ... False False False]\n",
      "we have a new best model!\n",
      "current score: 0.08119255467277066\n",
      "xbounds is not a DataArray or Dataset.\n",
      "xbounds: [1200.60865 1899.60865]\n",
      "bds:\n",
      "type: <class 'numpy.ndarray'>\n",
      "shape: (7260,)\n",
      "[False False False ... False False False]\n",
      "we have a new best model!\n",
      "current score: 0.06186634333535074\n",
      "xbounds is not a DataArray or Dataset.\n",
      "xbounds: [1900.7801 2599.7801]\n",
      "bds:\n",
      "type: <class 'numpy.ndarray'>\n",
      "shape: (7260,)\n",
      "[False False False ... False False False]\n",
      "xbounds is not a DataArray or Dataset.\n",
      "xbounds: [2600.95155 3299.95155]\n",
      "bds:\n",
      "type: <class 'numpy.ndarray'>\n",
      "shape: (7260,)\n",
      "[False False False ... False False False]\n",
      "xbounds is not a DataArray or Dataset.\n",
      "xbounds: [3301.123 4000.123]\n",
      "bds:\n",
      "type: <class 'numpy.ndarray'>\n",
      "shape: (7260,)\n",
      "[False False False ...  True  True False]\n",
      "xbounds is not a DataArray or Dataset.\n",
      "xbounds: [1200.60865 1899.60865]\n",
      "bds:\n",
      "type: <class 'numpy.ndarray'>\n",
      "shape: (7260,)\n",
      "[False False False ... False False False]\n"
     ]
    },
    {
     "data": {
      "image/png": "[encoded data removed]",
      "text/plain": [
       "<Figure size 500x500 with 1 Axes>"
      ]
     },
     "metadata": {},
     "output_type": "display_data"
    },
    {
     "name": "stdout",
     "output_type": "stream",
     "text": [
      "xbounds is not a DataArray or Dataset.\n",
      "xbounds: [1200.60865 1899.60865]\n",
      "bds:\n",
      "type: <class 'numpy.ndarray'>\n",
      "shape: (7260,)\n",
      "[False False False ... False False False]\n",
      "-9.290301084518433\n"
     ]
    }
   ],
   "source": [
    "start = time.time()\n",
    "h_viable_models, h_bestmodel_container, h_y_best, h_X_best = grid_search_dataset(\n",
    "    mix_train,\n",
    "    nwindows,\n",
    "    cv_models,\n",
    "    target_chem='hemicellulose',\n",
    "#     test_data=mix_test,\n",
    "    test_data=None, # random selection of test data\n",
    "    tts_test_size=tts_size,\n",
    "    tts_random_state=random_state,\n",
    "    tolerance=0.01,\n",
    "    metric=metric,\n",
    "    metric_label=metric_label,\n",
    "    x_bounds=None, # here is where you could restrict your spectral range\n",
    "    plot_comparison=True,\n",
    "    plot_comparison_savefile='./plots/axes_train'\n",
    ")\n",
    "end = time.time()\n",
    "print(start-end)"
   ]
  },
  {
   "cell_type": "code",
   "execution_count": 34,
   "id": "29620ebf",
   "metadata": {},
   "outputs": [],
   "source": [
    "#bestmodel_container"
   ]
  },
  {
   "cell_type": "code",
   "execution_count": 35,
   "id": "6084c4c5",
   "metadata": {},
   "outputs": [
    {
     "name": "stdout",
     "output_type": "stream",
     "text": [
      "Running analysis splitting interval into 1 windows.\n",
      "Running analysis on PLSRegression()\n",
      "xbounds is not a DataArray or Dataset.\n",
      "xbounds: [ 500.4372 3999.4372]\n",
      "bds:\n",
      "type: <class 'numpy.ndarray'>\n",
      "shape: (7260,)\n",
      "[False  True  True ...  True False False]\n",
      "we have a new best model!\n",
      "current score: 0.11722174888126642\n",
      "Running analysis splitting interval into 5 windows.\n",
      "Running analysis on PLSRegression()\n",
      "xbounds is not a DataArray or Dataset.\n",
      "xbounds: [ 500.4372 1199.4372]\n",
      "bds:\n",
      "type: <class 'numpy.ndarray'>\n",
      "shape: (7260,)\n",
      "[False  True  True ... False False False]\n",
      "we have a new best model!\n",
      "current score: 0.08119255467277066\n",
      "xbounds is not a DataArray or Dataset.\n",
      "xbounds: [1200.60865 1899.60865]\n",
      "bds:\n",
      "type: <class 'numpy.ndarray'>\n",
      "shape: (7260,)\n",
      "[False False False ... False False False]\n",
      "we have a new best model!\n",
      "current score: 0.06186634333535074\n",
      "xbounds is not a DataArray or Dataset.\n",
      "xbounds: [1900.7801 2599.7801]\n",
      "bds:\n",
      "type: <class 'numpy.ndarray'>\n",
      "shape: (7260,)\n",
      "[False False False ... False False False]\n",
      "xbounds is not a DataArray or Dataset.\n",
      "xbounds: [2600.95155 3299.95155]\n",
      "bds:\n",
      "type: <class 'numpy.ndarray'>\n",
      "shape: (7260,)\n",
      "[False False False ... False False False]\n",
      "xbounds is not a DataArray or Dataset.\n",
      "xbounds: [3301.123 4000.123]\n",
      "bds:\n",
      "type: <class 'numpy.ndarray'>\n",
      "shape: (7260,)\n",
      "[False False False ...  True  True False]\n",
      "xbounds is not a DataArray or Dataset.\n",
      "xbounds: [1200.60865 1899.60865]\n",
      "bds:\n",
      "type: <class 'numpy.ndarray'>\n",
      "shape: (7260,)\n",
      "[False False False ... False False False]\n"
     ]
    },
    {
     "data": {
      "image/png": "[encoded data removed]",
      "text/plain": [
       "<Figure size 500x500 with 1 Axes>"
      ]
     },
     "metadata": {},
     "output_type": "display_data"
    },
    {
     "name": "stdout",
     "output_type": "stream",
     "text": [
      "xbounds is not a DataArray or Dataset.\n",
      "xbounds: [1200.60865 1899.60865]\n",
      "bds:\n",
      "type: <class 'numpy.ndarray'>\n",
      "shape: (7260,)\n",
      "[False False False ... False False False]\n",
      "9.161251068115234\n"
     ]
    }
   ],
   "source": [
    "start = time.time()\n",
    "l_viable_models, l_bestmodel_container, l_y_best, l_X_best = grid_search_dataset(\n",
    "    mix_train,\n",
    "    nwindows,\n",
    "    cv_models,\n",
    "    target_chem='hemicellulose',\n",
    "#     test_data=mix_test,\n",
    "    test_data=None, # random selection of test data\n",
    "    tts_test_size=tts_size,\n",
    "    tts_random_state=random_state,\n",
    "    tolerance=0.01,\n",
    "    metric=metric,\n",
    "    metric_label=metric_label,\n",
    "    x_bounds=None, # here is where you could restrict your spectral range\n",
    "    plot_comparison=True,\n",
    "    plot_comparison_savefile='./plots/axes_train'\n",
    ")\n",
    "end = time.time()\n",
    "print(end-start)"
   ]
  },
  {
   "cell_type": "code",
   "execution_count": 68,
   "id": "168fd22c",
   "metadata": {},
   "outputs": [
    {
     "data": {
      "text/plain": [
       "array([ 2.6540e-04,  2.5077e-04,  2.3241e-04, ..., -5.0690e-05,\n",
       "        7.2700e-06,  6.2550e-05])"
      ]
     },
     "execution_count": 68,
     "metadata": {},
     "output_type": "execute_result"
    }
   ],
   "source": [
    "# l_bestmodel_container\n",
    "l_X_best[0]"
   ]
  },
  {
   "cell_type": "code",
   "execution_count": 72,
   "id": "20a3f2a6",
   "metadata": {},
   "outputs": [
    {
     "name": "stdout",
     "output_type": "stream",
     "text": [
      "      wavenumber  absorbance\n",
      "0          400.0      0.0000\n",
      "1          400.0      0.1550\n",
      "2          401.0      0.1530\n",
      "3          401.0      0.1500\n",
      "4          402.0      0.1440\n",
      "...          ...         ...\n",
      "7464      4000.0      0.0117\n",
      "7465      4000.0      0.0116\n",
      "7466      4000.0      0.0116\n",
      "7467      4000.0      0.0116\n",
      "7468      4000.0      0.0117\n",
      "\n",
      "[7469 rows x 2 columns]\n",
      "[1200.60865 1899.60865]\n",
      "      wavenumber  absorbance\n",
      "1671      1210.0      0.0445\n",
      "1672      1210.0      0.0445\n",
      "1673      1210.0      0.0444\n",
      "1674      1210.0      0.0443\n",
      "1675      1210.0      0.0442\n",
      "...          ...         ...\n",
      "3097      1890.0      0.0149\n",
      "3098      1890.0      0.0150\n",
      "3099      1890.0      0.0151\n",
      "3100      1890.0      0.0152\n",
      "3101      1890.0      0.0153\n",
      "\n",
      "[1431 rows x 2 columns]\n"
     ]
    },
    {
     "ename": "ValueError",
     "evalue": "X has 1431 features, but PLSRegression is expecting 1450 features as input.",
     "output_type": "error",
     "traceback": [
      "\u001b[0;31m---------------------------------------------------------------------------\u001b[0m",
      "\u001b[0;31mValueError\u001b[0m                                Traceback (most recent call last)",
      "Cell \u001b[0;32mIn[72], line 16\u001b[0m\n\u001b[1;32m     13\u001b[0m new_data \u001b[38;5;241m=\u001b[39m np\u001b[38;5;241m.\u001b[39marray(new_data[\u001b[38;5;124m'\u001b[39m\u001b[38;5;124mabsorbance\u001b[39m\u001b[38;5;124m'\u001b[39m])\u001b[38;5;241m.\u001b[39mreshape(\u001b[38;5;241m1\u001b[39m,\u001b[38;5;241m-\u001b[39m\u001b[38;5;241m1\u001b[39m)\n\u001b[1;32m     15\u001b[0m lignin_predictor \u001b[38;5;241m=\u001b[39m l_bestmodel_container[\u001b[38;5;241m0\u001b[39m]\n\u001b[0;32m---> 16\u001b[0m prediction \u001b[38;5;241m=\u001b[39m \u001b[43mlignin_predictor\u001b[49m\u001b[38;5;241;43m.\u001b[39;49m\u001b[43mpredict\u001b[49m\u001b[43m(\u001b[49m\u001b[43mnew_data_a\u001b[49m\u001b[43m)\u001b[49m\n\u001b[1;32m     18\u001b[0m \u001b[38;5;28mprint\u001b[39m(\u001b[38;5;124m\"\u001b[39m\u001b[38;5;124mPredicted Composition for T1-1 (cellulose):\u001b[39m\u001b[38;5;124m\"\u001b[39m, prediction)\n",
      "File \u001b[0;32m~/miniconda3/envs/mcr/lib/python3.11/site-packages/sklearn/cross_decomposition/_pls.py:467\u001b[0m, in \u001b[0;36m_PLS.predict\u001b[0;34m(self, X, copy)\u001b[0m\n\u001b[1;32m    445\u001b[0m \u001b[38;5;250m\u001b[39m\u001b[38;5;124;03m\"\"\"Predict targets of given samples.\u001b[39;00m\n\u001b[1;32m    446\u001b[0m \n\u001b[1;32m    447\u001b[0m \u001b[38;5;124;03mParameters\u001b[39;00m\n\u001b[0;32m   (...)\u001b[0m\n\u001b[1;32m    464\u001b[0m \u001b[38;5;124;03mspace.\u001b[39;00m\n\u001b[1;32m    465\u001b[0m \u001b[38;5;124;03m\"\"\"\u001b[39;00m\n\u001b[1;32m    466\u001b[0m check_is_fitted(\u001b[38;5;28mself\u001b[39m)\n\u001b[0;32m--> 467\u001b[0m X \u001b[38;5;241m=\u001b[39m \u001b[38;5;28;43mself\u001b[39;49m\u001b[38;5;241;43m.\u001b[39;49m\u001b[43m_validate_data\u001b[49m\u001b[43m(\u001b[49m\u001b[43mX\u001b[49m\u001b[43m,\u001b[49m\u001b[43m \u001b[49m\u001b[43mcopy\u001b[49m\u001b[38;5;241;43m=\u001b[39;49m\u001b[43mcopy\u001b[49m\u001b[43m,\u001b[49m\u001b[43m \u001b[49m\u001b[43mdtype\u001b[49m\u001b[38;5;241;43m=\u001b[39;49m\u001b[43mFLOAT_DTYPES\u001b[49m\u001b[43m,\u001b[49m\u001b[43m \u001b[49m\u001b[43mreset\u001b[49m\u001b[38;5;241;43m=\u001b[39;49m\u001b[38;5;28;43;01mFalse\u001b[39;49;00m\u001b[43m)\u001b[49m\n\u001b[1;32m    468\u001b[0m \u001b[38;5;66;03m# Normalize\u001b[39;00m\n\u001b[1;32m    469\u001b[0m X \u001b[38;5;241m-\u001b[39m\u001b[38;5;241m=\u001b[39m \u001b[38;5;28mself\u001b[39m\u001b[38;5;241m.\u001b[39m_x_mean\n",
      "File \u001b[0;32m~/miniconda3/envs/mcr/lib/python3.11/site-packages/sklearn/base.py:588\u001b[0m, in \u001b[0;36mBaseEstimator._validate_data\u001b[0;34m(self, X, y, reset, validate_separately, **check_params)\u001b[0m\n\u001b[1;32m    585\u001b[0m     out \u001b[38;5;241m=\u001b[39m X, y\n\u001b[1;32m    587\u001b[0m \u001b[38;5;28;01mif\u001b[39;00m \u001b[38;5;129;01mnot\u001b[39;00m no_val_X \u001b[38;5;129;01mand\u001b[39;00m check_params\u001b[38;5;241m.\u001b[39mget(\u001b[38;5;124m\"\u001b[39m\u001b[38;5;124mensure_2d\u001b[39m\u001b[38;5;124m\"\u001b[39m, \u001b[38;5;28;01mTrue\u001b[39;00m):\n\u001b[0;32m--> 588\u001b[0m     \u001b[38;5;28;43mself\u001b[39;49m\u001b[38;5;241;43m.\u001b[39;49m\u001b[43m_check_n_features\u001b[49m\u001b[43m(\u001b[49m\u001b[43mX\u001b[49m\u001b[43m,\u001b[49m\u001b[43m \u001b[49m\u001b[43mreset\u001b[49m\u001b[38;5;241;43m=\u001b[39;49m\u001b[43mreset\u001b[49m\u001b[43m)\u001b[49m\n\u001b[1;32m    590\u001b[0m \u001b[38;5;28;01mreturn\u001b[39;00m out\n",
      "File \u001b[0;32m~/miniconda3/envs/mcr/lib/python3.11/site-packages/sklearn/base.py:389\u001b[0m, in \u001b[0;36mBaseEstimator._check_n_features\u001b[0;34m(self, X, reset)\u001b[0m\n\u001b[1;32m    386\u001b[0m     \u001b[38;5;28;01mreturn\u001b[39;00m\n\u001b[1;32m    388\u001b[0m \u001b[38;5;28;01mif\u001b[39;00m n_features \u001b[38;5;241m!=\u001b[39m \u001b[38;5;28mself\u001b[39m\u001b[38;5;241m.\u001b[39mn_features_in_:\n\u001b[0;32m--> 389\u001b[0m     \u001b[38;5;28;01mraise\u001b[39;00m \u001b[38;5;167;01mValueError\u001b[39;00m(\n\u001b[1;32m    390\u001b[0m         \u001b[38;5;124mf\u001b[39m\u001b[38;5;124m\"\u001b[39m\u001b[38;5;124mX has \u001b[39m\u001b[38;5;132;01m{\u001b[39;00mn_features\u001b[38;5;132;01m}\u001b[39;00m\u001b[38;5;124m features, but \u001b[39m\u001b[38;5;132;01m{\u001b[39;00m\u001b[38;5;28mself\u001b[39m\u001b[38;5;241m.\u001b[39m\u001b[38;5;18m__class__\u001b[39m\u001b[38;5;241m.\u001b[39m\u001b[38;5;18m__name__\u001b[39m\u001b[38;5;132;01m}\u001b[39;00m\u001b[38;5;124m \u001b[39m\u001b[38;5;124m\"\u001b[39m\n\u001b[1;32m    391\u001b[0m         \u001b[38;5;124mf\u001b[39m\u001b[38;5;124m\"\u001b[39m\u001b[38;5;124mis expecting \u001b[39m\u001b[38;5;132;01m{\u001b[39;00m\u001b[38;5;28mself\u001b[39m\u001b[38;5;241m.\u001b[39mn_features_in_\u001b[38;5;132;01m}\u001b[39;00m\u001b[38;5;124m features as input.\u001b[39m\u001b[38;5;124m\"\u001b[39m\n\u001b[1;32m    392\u001b[0m     )\n",
      "\u001b[0;31mValueError\u001b[0m: X has 1431 features, but PLSRegression is expecting 1450 features as input."
     ]
    }
   ],
   "source": [
    "# Read and clean the new data\n",
    "new_file_path = os.path.join(os.sep, cwd, 'T1-1.csv')\n",
    "new_data = pd.read_csv(new_file_path, \n",
    "#                        names=['wavenumber', 'absorbance'], \n",
    "                       header=0,\n",
    "                       dtype='float') #\n",
    "print(new_data)\n",
    "window = l_bestmodel_container[1]\n",
    "print(window)\n",
    "new_data = new_data.where(new_data['wavenumber'] > window[0]).where(new_data['wavenumber'] < window[1])\n",
    "new_data = new_data.dropna()\n",
    "print(new_data)\n",
    "new_data = np.array(new_data['absorbance']).reshape(1,-1)\n",
    "\n",
    "lignin_predictor = l_bestmodel_container[0]\n",
    "prediction = lignin_predictor.predict(new_data_a)\n",
    "\n",
    "print(\"Predicted Composition for T1-1 (cellulose):\", prediction)\n"
   ]
  },
  {
   "cell_type": "code",
   "execution_count": null,
   "id": "2dffda70",
   "metadata": {},
   "outputs": [],
   "source": []
  },
  {
   "cell_type": "code",
   "execution_count": null,
   "id": "80a3873b",
   "metadata": {},
   "outputs": [],
   "source": []
  }
 ],
 "metadata": {
  "kernelspec": {
   "display_name": "Python 3 (ipykernel)",
   "language": "python",
   "name": "python3"
  },
  "language_info": {
   "codemirror_mode": {
    "name": "ipython",
    "version": 3
   },
   "file_extension": ".py",
   "mimetype": "text/x-python",
   "name": "python",
   "nbconvert_exporter": "python",
   "pygments_lexer": "ipython3",
   "version": "3.11.0"
  }
 },
 "nbformat": 4,
 "nbformat_minor": 5
}
