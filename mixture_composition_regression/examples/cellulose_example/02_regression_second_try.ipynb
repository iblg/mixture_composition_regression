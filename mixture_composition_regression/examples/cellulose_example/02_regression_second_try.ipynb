{
 "cells": [
  {
   "cell_type": "code",
   "execution_count": 1,
   "id": "654a1ced",
   "metadata": {},
   "outputs": [],
   "source": [
    "# import basic packages\n",
    "import numpy as np\n",
    "import pandas as pd\n",
    "import matplotlib.pyplot as plt\n",
    "import xarray as xr\n",
    "\n",
    "#import stuff from the mixture_composition_regression package\n",
    "from mixture_composition_regression.examples.load_dipa_water_nacl_training_set import load_training_set\n",
    "from mixture_composition_regression.cross_validation import cv_on_model_and_wavelength\n",
    "from mixture_composition_regression.import_spectrum import clean_data\n",
    "from mixture_composition_regression.sample import Sample\n",
    "from mixture_composition_regression.mixture import Mixture\n",
    "from mixture_composition_regression.preprocessor_pipeline import get_Xy\n",
    "from mixture_composition_regression.gridsearch_dataset import grid_search_dataset\n",
    "\n",
    "# import needed packages from scikit-learn\n",
    "from sklearn.model_selection import train_test_split\n",
    "from sklearn.metrics import mean_absolute_error\n",
    "from sklearn.model_selection import GridSearchCV\n",
    "from sklearn.linear_model import Ridge\n",
    "from sklearn.neural_network import MLPRegressor\n",
    "from sklearn.neighbors import KNeighborsRegressor\n",
    "from sklearn.svm import SVR\n",
    "from sklearn.kernel_ridge import KernelRidge\n",
    "from sklearn.decomposition import PCA\n",
    "from sklearn.cross_decomposition import PLSRegression\n",
    "from sklearn.tree import DecisionTreeRegressor\n",
    "import os"
   ]
  },
  {
   "cell_type": "code",
   "execution_count": 2,
   "id": "533fa892",
   "metadata": {},
   "outputs": [
    {
     "name": "stdout",
     "output_type": "stream",
     "text": [
      "Checking samples in mixture None\n"
     ]
    }
   ],
   "source": [
    "# set the current working directory\n",
    "#cwd = '/Users/ianbillinge/dev/mixture_composition_regression/mixture_composition_regression/examples/cellulose_example/'\n",
    "cwd = '/Users/Ankit/projects/mixture_composition_regression/mixture_composition_regression/examples/cellulose_example/'\n",
    "\n",
    "# read and clean the training spectra\n",
    "file = os.path.join(os.sep, cwd, 'all_spectra.csv')\n",
    "df = clean_data(file)\n",
    "\n",
    "# read and clean target data (weight fraction).\n",
    "w_file = os.path.join(os.sep, cwd, 'composition.csv')\n",
    "composition = pd.read_csv(w_file)\n",
    "\n",
    "# get a list of sample names\n",
    "samples = np.array(composition.columns)[1:]\n",
    "\n",
    "cp = {'name': ['cellulose', 'hemicellulose', 'lignin'],\n",
    "      'mw': [1, 1, 1],\n",
    "      'nu': [1, 1, 1]}\n",
    "\n",
    "# create a list of Sample objects (one for each spectrum you collected)\n",
    "ds = []\n",
    "for s in samples:\n",
    "    ds.append(Sample(s, df, x_col_name='wavenumber', a_col_name=s, \n",
    "                     chem_properties=cp, w=list(composition[s]/100.),\n",
    "                    xbounds = [500, 3900]))\n",
    "\n",
    "# create a mixture_composition_regression.Mixture object\n",
    "# NOTE: I will probably remove the Mixture object from the package in the future, \n",
    "# and I do the regression without using the Mixture, but there are some plotting things that are quite nice.\n",
    "mix = Mixture(ds)"
   ]
  },
  {
   "cell_type": "code",
   "execution_count": 3,
   "id": "1d7a25f4",
   "metadata": {},
   "outputs": [],
   "source": [
    "# create an xarray.Dataset object containing data on the absorption, 'a', and the first and second derivatives\n",
    "# of the absorption, 'da', and 'd2a'.\n",
    "da_list = [i.da for i in ds]\n",
    "a = xr.combine_by_coords(da_list)\n",
    "dataset = xr.Dataset(data_vars = {'a':a, 'da':a.diff('x'), 'd2a':a.diff('x', 2)})\n",
    "\n",
    "\n",
    "\n",
    "# select whether you want to regress on raw spectral data or its derivatives.\n",
    "# you can only select one.\n",
    "# regressand = 'a' \n",
    "regressand = 'da'\n",
    "# regressand = 'd2a'\n",
    "\n",
    "# do a test-train split. Here we have specified a replicable random state, but this can be removed if you want\n",
    "# a non-replicable one. You can also modify the portion of the data reserved for testing.\n",
    "mix_train, mix_test = train_test_split(dataset[regressand], \n",
    "                                       test_size=0.2, \n",
    "                                       random_state=1\n",
    "                                      )"
   ]
  },
  {
   "cell_type": "markdown",
   "id": "46ecbfcd",
   "metadata": {},
   "source": [
    "Here, we initialize all of the different regressors we will try. The code will run GridSearchCV on all of them, basically going through and doing an exhaustive search on all the parameter options (e.g. Ridge regression with alpha = 10**(-7), then 10**(-6)... then 10**(7))"
   ]
  },
  {
   "cell_type": "code",
   "execution_count": 4,
   "id": "3e45a0f9",
   "metadata": {},
   "outputs": [],
   "source": [
    "sc = 'neg_mean_absolute_error' # other scoring methods are available... \n",
    "                               # see anything under 'Regression' at scikit-learn.org/stable/modules/model_evaluation.html\n",
    "cv_number = 5"
   ]
  },
  {
   "cell_type": "code",
   "execution_count": 5,
   "id": "837ac6ea",
   "metadata": {},
   "outputs": [],
   "source": [
    "ridge_param_grid = {'alpha': np.logspace(-7, 7, 14)}\n",
    "\n",
    "ridge = GridSearchCV(\n",
    "    Ridge(), \n",
    "    param_grid = ridge_param_grid, \n",
    "    scoring=sc, \n",
    "    cv=cv_number\n",
    ")\n",
    "\n",
    "\n",
    "kr_param_grid = {'kernel': [\"rbf\", 'linear'],\n",
    "                \"alpha\": np.logspace(-7, 7, 11),\n",
    "                \"gamma\": np.logspace(-7, 7, 11)\n",
    "                }\n",
    "\n",
    "kr = GridSearchCV(\n",
    "    KernelRidge(),\n",
    "    param_grid=kr_param_grid,\n",
    "    scoring=sc,\n",
    "    cv = cv_number\n",
    ")\n",
    "\n",
    "svr_param_grid = {'kernel': ['linear', \n",
    "#                              'rbf'\n",
    "                            ],\n",
    "     'gamma': ['scale', 'auto'],\n",
    "     'epsilon': np.logspace(-7, 7, 10)\n",
    "     }\n",
    "\n",
    "svr = GridSearchCV(\n",
    "    SVR(),\n",
    "    param_grid=svr_param_grid,\n",
    "    scoring=sc,\n",
    "    cv = cv_number\n",
    ")\n",
    "\n",
    "knnr_param_grid = {'n_neighbors': 5 + np.arange(5)}\n",
    "knnr = GridSearchCV(\n",
    "    KNeighborsRegressor(), param_grid=knnr_param_grid, scoring=sc\n",
    ")\n",
    "\n",
    "mlp = GridSearchCV(\n",
    "    MLPRegressor(solver='lbfgs', max_iter=400),\n",
    "    param_grid = {'hidden_layer_sizes': [10, 50, 100]},\n",
    "    scoring=sc,\n",
    "    cv=cv_number\n",
    ")\n",
    "\n",
    "pls = GridSearchCV(\n",
    "    PLSRegression(),\n",
    "    param_grid = {'n_components': [2, 4, 6, 8]},\n",
    "    scoring=sc,\n",
    "    cv=cv_number\n",
    "\n",
    ")\n",
    "\n",
    "dtr = GridSearchCV(\n",
    "    DecisionTreeRegressor(),\n",
    "    param_grid = {'max_depth': [2, \n",
    "#                                 3, \n",
    "#                                 5\n",
    "                               ],\n",
    "                  'min_samples_split': [2, 3]},\n",
    "    scoring = sc,\n",
    "    cv=cv_number\n",
    ") # Decision tree regression is currently giving very good results... I am very worried that it is over-fitting.\n",
    "# You can of course make the final call."
   ]
  },
  {
   "cell_type": "markdown",
   "id": "7b65ea19",
   "metadata": {},
   "source": [
    "Decide the number of windows you want to break your spectrum into. If nwindows=1, the whole spectrum will be fed into the machine learning model.\n",
    "\n",
    "If nwindows=10, the spectrum will be split into 10, and each sub spectrum will be fed into the machine learning model.\n",
    "\n",
    "If nwindows is a list, the code will try all of them in sequence."
   ]
  },
  {
   "cell_type": "code",
   "execution_count": 6,
   "id": "98f054de",
   "metadata": {},
   "outputs": [],
   "source": [
    "nwindows = [1, \n",
    "           5,\n",
    "           10, \n",
    "            50, \n",
    "#             200\n",
    "           ]"
   ]
  },
  {
   "cell_type": "code",
   "execution_count": 7,
   "id": "11190555",
   "metadata": {},
   "outputs": [],
   "source": [
    "random_state = 1\n",
    "# random_state = None # specify a replicable random split; this line can be set to None if not desired.\n",
    "tts_size = 0.25 # reserve 1/4 of the data for testing.\n",
    "\n",
    "# Specify a metric by which to compare models. Currently set to mean absolute error.\n",
    "# Other metrics available at scikit-learn.org/stable/modules/model_evaluation.html\n",
    "\n",
    "metric = mean_absolute_error\n",
    "metric_label = 'MAE'"
   ]
  },
  {
   "cell_type": "markdown",
   "id": "9b6097a1",
   "metadata": {},
   "source": [
    "Specify the list of machine learning models you wish to consider."
   ]
  },
  {
   "cell_type": "code",
   "execution_count": 8,
   "id": "dccb014a",
   "metadata": {},
   "outputs": [],
   "source": [
    "cv_models = [\n",
    "#    ridge,\n",
    "#     pls,\n",
    "#    dtr,\n",
    "   kr,\n",
    "#     svr,\n",
    "#     knnr,\n",
    "#     mlp,\n",
    "]"
   ]
  },
  {
   "cell_type": "code",
   "execution_count": 9,
   "id": "29f82a08",
   "metadata": {},
   "outputs": [
    {
     "name": "stdout",
     "output_type": "stream",
     "text": [
      "Running analysis splitting interval into 1 windows.\n",
      "Running analysis on KernelRidge()\n",
      "we have a new best model!\n",
      "current score: 0.06233917065394781\n",
      "Running analysis splitting interval into 5 windows.\n",
      "Running analysis on KernelRidge()\n",
      "we have a new best model!\n",
      "current score: 0.04023564087723368\n",
      "we have a new best model!\n",
      "current score: 0.03521197464517752\n",
      "Running analysis splitting interval into 10 windows.\n",
      "Running analysis on KernelRidge()\n",
      "Running analysis splitting interval into 50 windows.\n",
      "Running analysis on KernelRidge()\n"
     ]
    },
    {
     "data": {
      "image/png": "[encoded data removed]",
      "text/plain": [
       "<Figure size 500x500 with 1 Axes>"
      ]
     },
     "metadata": {},
     "output_type": "display_data"
    }
   ],
   "source": [
    "c_viable_models, c_bestmodel_container, c_y_best, c_X_best = grid_search_dataset(\n",
    "    mix_train,\n",
    "    nwindows,\n",
    "    cv_models,\n",
    "    target_chem='cellulose',\n",
    "#     test_data=mix_test,\n",
    "    test_data=None, # random selection of test data\n",
    "    tts_test_size=tts_size,\n",
    "    tts_random_state=random_state,\n",
    "    tolerance=0.01,\n",
    "    metric=metric,\n",
    "    metric_label=metric_label,\n",
    "    x_bounds=None, # here is where you could restrict your spectral range\n",
    "    plot_comparison=True,\n",
    "    plot_comparison_savefile='./plots/axes_train'\n",
    ")\n"
   ]
  },
  {
   "cell_type": "code",
   "execution_count": 10,
   "id": "a2479253",
   "metadata": {},
   "outputs": [
    {
     "data": {
      "text/plain": [
       "array([1200.60865, 1899.60865])"
      ]
     },
     "execution_count": 10,
     "metadata": {},
     "output_type": "execute_result"
    }
   ],
   "source": [
    "c_bestmodel_container[0]\n",
    "c_bestmodel_container[1]"
   ]
  },
  {
   "cell_type": "code",
   "execution_count": 11,
   "id": "de59aa42",
   "metadata": {},
   "outputs": [],
   "source": [
    "import time"
   ]
  },
  {
   "cell_type": "code",
   "execution_count": 12,
   "id": "7c85e3f9",
   "metadata": {},
   "outputs": [
    {
     "name": "stdout",
     "output_type": "stream",
     "text": [
      "Running analysis splitting interval into 1 windows.\n",
      "Running analysis on KernelRidge()\n",
      "we have a new best model!\n",
      "current score: 0.08047254425313602\n",
      "Running analysis splitting interval into 5 windows.\n",
      "Running analysis on KernelRidge()\n",
      "we have a new best model!\n",
      "current score: 0.07787730330542748\n",
      "Running analysis splitting interval into 10 windows.\n",
      "Running analysis on KernelRidge()\n",
      "we have a new best model!\n",
      "current score: 0.07180718939950807\n",
      "Running analysis splitting interval into 50 windows.\n",
      "Running analysis on KernelRidge()\n",
      "we have a new best model!\n",
      "current score: 0.06340854982913531\n"
     ]
    },
    {
     "data": {
      "image/png": "[encoded data removed]",
      "text/plain": [
       "<Figure size 500x500 with 1 Axes>"
      ]
     },
     "metadata": {},
     "output_type": "display_data"
    },
    {
     "name": "stdout",
     "output_type": "stream",
     "text": [
      "-46.54321002960205\n"
     ]
    }
   ],
   "source": [
    "start = time.time()\n",
    "h_viable_models, h_bestmodel_container, h_y_best, h_X_best = grid_search_dataset(\n",
    "    mix_train,\n",
    "    nwindows,\n",
    "    cv_models,\n",
    "    target_chem='hemicellulose',\n",
    "#     test_data=mix_test,\n",
    "    test_data=None, # random selection of test data\n",
    "    tts_test_size=tts_size,\n",
    "    tts_random_state=random_state,\n",
    "    tolerance=0.01,\n",
    "    metric=metric,\n",
    "    metric_label=metric_label,\n",
    "    x_bounds=None, # here is where you could restrict your spectral range\n",
    "    plot_comparison=True,\n",
    "    plot_comparison_savefile='./plots/axes_train'\n",
    ")\n",
    "end = time.time()\n",
    "print(start-end)"
   ]
  },
  {
   "cell_type": "code",
   "execution_count": null,
   "id": "29620ebf",
   "metadata": {},
   "outputs": [],
   "source": []
  },
  {
   "cell_type": "code",
   "execution_count": 13,
   "id": "6084c4c5",
   "metadata": {},
   "outputs": [
    {
     "name": "stdout",
     "output_type": "stream",
     "text": [
      "Running analysis splitting interval into 1 windows.\n",
      "Running analysis on KernelRidge()\n",
      "we have a new best model!\n",
      "current score: 0.04988354660200449\n",
      "Running analysis splitting interval into 5 windows.\n",
      "Running analysis on KernelRidge()\n",
      "we have a new best model!\n",
      "current score: 0.03262713662768727\n",
      "Running analysis splitting interval into 10 windows.\n",
      "Running analysis on KernelRidge()\n",
      "Running analysis splitting interval into 50 windows.\n",
      "Running analysis on KernelRidge()\n",
      "we have a new best model!\n",
      "current score: 0.022577491692914425\n"
     ]
    },
    {
     "data": {
      "image/png": "[encoded data removed]",
      "text/plain": [
       "<Figure size 500x500 with 1 Axes>"
      ]
     },
     "metadata": {},
     "output_type": "display_data"
    },
    {
     "name": "stdout",
     "output_type": "stream",
     "text": [
      "50.03769302368164\n"
     ]
    }
   ],
   "source": [
    "start = time.time()\n",
    "l_viable_models, l_bestmodel_container, l_y_best, l_X_best = grid_search_dataset(\n",
    "    mix_train,\n",
    "    nwindows,\n",
    "    cv_models,\n",
    "    target_chem='lignin',\n",
    "#     test_data=mix_test,\n",
    "    test_data=None, # should be None if you want random selection of test data\n",
    "    tts_test_size=tts_size,\n",
    "    tts_random_state=random_state,\n",
    "    tolerance=0.01,\n",
    "    metric=metric,\n",
    "    metric_label=metric_label,\n",
    "    x_bounds=None, # here is where you could restrict your spectral range\n",
    "    plot_comparison=True,\n",
    "    plot_comparison_savefile='./plots/axes_train'\n",
    ")\n",
    "end = time.time()\n",
    "print(end-start)"
   ]
  },
  {
   "cell_type": "code",
   "execution_count": null,
   "id": "cf0b0e6e",
   "metadata": {},
   "outputs": [],
   "source": []
  },
  {
   "cell_type": "code",
   "execution_count": 14,
   "id": "7274b8f3",
   "metadata": {},
   "outputs": [],
   "source": [
    "def predict_on_test_csvs(fpath, bestmodel_container, regressand, target, sample_name=None, print_sample=False, printres=False):\n",
    "    new_data = pd.read_csv(fpath, \n",
    "#                        names=['wavenumber', 'absorbance'], \n",
    "                       header=0, # it was reading in the first row as data and causing problems. So I just had it read the column namese from the first row\n",
    "                       dtype='float')  \n",
    "    \n",
    "    # renamed for less typing, but you can absolutely get rid of these column names and just rename to your preference\n",
    "    new_data = new_data.rename(columns={new_data.columns[0]:'x', new_data.columns[1]:'y'}) \n",
    "\n",
    "    # because if you look higher in the code, we are currently regressing on the derivative of the data\n",
    "    # so I calculated the derivative here\n",
    "    if regressand == 'a':\n",
    "        new_data[regressand] = new_data['y']\n",
    "    if regressand == 'da':\n",
    "        new_data[regressand] = new_data['y'].diff() \n",
    "    elif regressand == 'd2a':\n",
    "        new_data[regressand] = new_data['y'].diff(order=2)\n",
    "\n",
    "\n",
    "    # get the wavelength window we care about and slice the data, only keeping that stuff\n",
    "    window = bestmodel_container[1] \n",
    "    new_data = new_data.where(new_data['x'] > window[0]).where(new_data['x'] < window[1]).dropna()\n",
    "    new_data_dy = np.array(new_data[regressand]).reshape(1,-1)\n",
    "\n",
    "    predictor = bestmodel_container[0]\n",
    "    prediction = predictor.predict(new_data_dy)\n",
    "    \n",
    "    # discard unwanted nested lists\n",
    "    for i in prediction.shape:\n",
    "        prediction = prediction[0] \n",
    "        \n",
    "    if print_sample is True:\n",
    "        print('Sample: {}'.format(sample_name))\n",
    "        \n",
    "    if printres:\n",
    "        print(\"predicted composition {} {:1.3f}\".format(target, prediction))\n",
    "    return prediction"
   ]
  },
  {
   "cell_type": "code",
   "execution_count": null,
   "id": "8883a182",
   "metadata": {},
   "outputs": [],
   "source": []
  },
  {
   "cell_type": "markdown",
   "id": "71e08792",
   "metadata": {},
   "source": [
    "### Save the trained models!"
   ]
  },
  {
   "cell_type": "code",
   "execution_count": 15,
   "id": "20a3f2a6",
   "metadata": {
    "scrolled": true
   },
   "outputs": [
    {
     "name": "stdout",
     "output_type": "stream",
     "text": [
      "['./trained_models/cellulose_predictor_meta.txt', './trained_models/hemi_predictor_meta.txt', './trained_models/lignin_predictor_meta.txt']\n"
     ]
    }
   ],
   "source": [
    "import pickle\n",
    "\n",
    "\n",
    "\n",
    "predictors = [c_bestmodel_container[0], h_bestmodel_container[0], l_bestmodel_container[0]]\n",
    "predictor_ranges = [c_bestmodel_container[1], h_bestmodel_container[1], l_bestmodel_container[1]]\n",
    "\n",
    "predictor_files = ['cellulose_predictor.pkl', 'hemi_predictor.pkl', 'lignin_predictor.pkl']\n",
    "predictor_files = ['./trained_models/' + p for p in predictor_files]\n",
    "\n",
    "for p, f in zip(predictors, predictor_files):\n",
    "    with open(f, 'wb') as file:  \n",
    "        pickle.dump(p, file)\n",
    "        \n",
    "predictor_metadata_files = [p.split('.pkl')[0] + '_meta.txt' for p in predictor_files] \n",
    "print(predictor_metadata_files)\n",
    "\n",
    "for r, f in zip(predictor_ranges, predictor_metadata_files):\n",
    "    with open(f, 'w') as file:\n",
    "        for i in r:\n",
    "            file.write(str(i) + '\\n')\n"
   ]
  },
  {
   "cell_type": "code",
   "execution_count": 16,
   "id": "302745a9",
   "metadata": {},
   "outputs": [
    {
     "data": {
      "text/plain": [
       "['./trained_models/cellulose_predictor_meta.txt',\n",
       " './trained_models/hemi_predictor_meta.txt',\n",
       " './trained_models/lignin_predictor_meta.txt']"
      ]
     },
     "execution_count": 16,
     "metadata": {},
     "output_type": "execute_result"
    }
   ],
   "source": [
    "predictor_files\n",
    "predictor_metadata_files"
   ]
  },
  {
   "cell_type": "markdown",
   "id": "4e88817e",
   "metadata": {},
   "source": [
    "### Open the trained models"
   ]
  },
  {
   "cell_type": "code",
   "execution_count": 17,
   "id": "2dffda70",
   "metadata": {},
   "outputs": [],
   "source": [
    "def read_range_files(filenames:list):\n",
    "    ranges = []\n",
    "    \n",
    "    for f in filenames:\n",
    "        with open(f, 'r') as file:\n",
    "            ranges.append(file.readlines())\n",
    "        \n",
    "    ranges = [float(i.strip()) for row in ranges for i in row]\n",
    "    ranges = [[ranges[idx], ranges[idx+1]] for idx, i in enumerate(ranges) if idx % 2 == 0]\n",
    "    \n",
    "    return ranges\n",
    "\n",
    "def read_predictor_files(filenames:list):\n",
    "    \n",
    "    predictors = []\n",
    "    for f in predictor_files:\n",
    "        with open(f, 'rb') as file:\n",
    "            predictors.append(pickle.load(file))\n",
    "    return predictors\n"
   ]
  },
  {
   "cell_type": "code",
   "execution_count": 18,
   "id": "1346e261",
   "metadata": {},
   "outputs": [],
   "source": [
    "        \n",
    "ranges = read_range_files(predictor_metadata_files)\n",
    "predictors = read_predictor_files(predictor_files)\n",
    "containers = [[j,i] for i, j in zip(ranges, predictors)]\n",
    "c_container = containers[0]\n",
    "h_container = containers[1]\n",
    "l_container = containers[2]"
   ]
  },
  {
   "cell_type": "code",
   "execution_count": 19,
   "id": "5cb71337",
   "metadata": {},
   "outputs": [
    {
     "data": {
      "text/plain": [
       "[[KernelRidge(alpha=1e-07, gamma=15848.931924611108, kernel='rbf'),\n",
       "  [1200.6086500000001, 1899.6086500000001]],\n",
       " [KernelRidge(alpha=0.0015848931924611108, gamma=15848.931924611108, kernel='rbf'),\n",
       "  [920.5211755102041, 989.5211755102042]],\n",
       " [KernelRidge(alpha=1e-07, gamma=1e-07),\n",
       "  [1550.6471387755105, 1619.6471387755105]]]"
      ]
     },
     "execution_count": 19,
     "metadata": {},
     "output_type": "execute_result"
    }
   ],
   "source": [
    "containers"
   ]
  },
  {
   "cell_type": "code",
   "execution_count": 20,
   "id": "69f83ac3",
   "metadata": {},
   "outputs": [
    {
     "name": "stdout",
     "output_type": "stream",
     "text": [
      "Sample: T2-1\n",
      "predicted composition cellulose 0.339\n",
      "predicted composition hemicellulose 0.119\n",
      "predicted composition lignin 0.466\n",
      "Sample: T2-3\n",
      "predicted composition cellulose 0.173\n",
      "predicted composition hemicellulose 0.099\n",
      "predicted composition lignin 0.700\n",
      "Sample: T2-2\n",
      "predicted composition cellulose 0.257\n",
      "predicted composition hemicellulose 0.184\n",
      "predicted composition lignin 0.633\n",
      "Sample: T6-2\n",
      "predicted composition cellulose 0.449\n",
      "predicted composition hemicellulose 0.014\n",
      "predicted composition lignin -0.223\n",
      "Sample: T6-3\n",
      "predicted composition cellulose 0.076\n",
      "predicted composition hemicellulose -0.060\n",
      "predicted composition lignin -0.915\n",
      "Sample: T4-1\n",
      "predicted composition cellulose 0.203\n",
      "predicted composition hemicellulose 0.357\n",
      "predicted composition lignin 0.284\n",
      "Sample: T4-3\n",
      "predicted composition cellulose 0.061\n",
      "predicted composition hemicellulose 0.472\n",
      "predicted composition lignin 0.496\n",
      "Sample: T6-1\n",
      "predicted composition cellulose 0.410\n",
      "predicted composition hemicellulose -0.077\n",
      "predicted composition lignin -0.375\n",
      "Sample: T4-2\n",
      "predicted composition cellulose 0.120\n",
      "predicted composition hemicellulose 0.405\n",
      "predicted composition lignin 0.347\n",
      "Sample: T3-3\n",
      "predicted composition cellulose 0.257\n",
      "predicted composition hemicellulose 0.524\n",
      "predicted composition lignin 0.163\n",
      "Sample: T1-1\n",
      "predicted composition cellulose 0.428\n",
      "predicted composition hemicellulose 0.681\n",
      "predicted composition lignin 0.121\n",
      "Sample: T3-2\n",
      "predicted composition cellulose 0.334\n",
      "predicted composition hemicellulose 0.634\n",
      "predicted composition lignin 0.114\n",
      "Sample: T1-2\n",
      "predicted composition cellulose 0.376\n",
      "predicted composition hemicellulose 0.475\n",
      "predicted composition lignin 0.142\n",
      "Sample: T1-3\n",
      "predicted composition cellulose 0.243\n",
      "predicted composition hemicellulose 0.691\n",
      "predicted composition lignin 0.162\n",
      "Sample: T3-1\n",
      "predicted composition cellulose 0.410\n",
      "predicted composition hemicellulose 0.468\n",
      "predicted composition lignin 0.153\n",
      "Sample: T7-1\n",
      "predicted composition cellulose 0.367\n",
      "predicted composition hemicellulose 0.711\n",
      "predicted composition lignin -0.201\n",
      "Sample: T5-3\n",
      "predicted composition cellulose 0.076\n",
      "predicted composition hemicellulose 0.167\n",
      "predicted composition lignin 0.477\n",
      "Sample: T5-2\n",
      "predicted composition cellulose 0.126\n",
      "predicted composition hemicellulose 0.139\n",
      "predicted composition lignin 0.436\n",
      "Sample: T7-2\n",
      "predicted composition cellulose 0.338\n",
      "predicted composition hemicellulose 0.689\n",
      "predicted composition lignin -0.312\n",
      "Sample: T5-1\n",
      "predicted composition cellulose 0.057\n",
      "predicted composition hemicellulose 0.163\n",
      "predicted composition lignin 0.472\n",
      "Sample: T7-3\n",
      "predicted composition cellulose 0.396\n",
      "predicted composition hemicellulose 0.211\n",
      "predicted composition lignin -0.057\n"
     ]
    },
    {
     "ename": "ValueError",
     "evalue": "X has 725 features, but KernelRidge is expecting 1450 features as input.",
     "output_type": "error",
     "traceback": [
      "\u001b[0;31m---------------------------------------------------------------------------\u001b[0m",
      "\u001b[0;31mValueError\u001b[0m                                Traceback (most recent call last)",
      "Cell \u001b[0;32mIn[20], line 5\u001b[0m\n\u001b[1;32m      3\u001b[0m sample_names \u001b[38;5;241m=\u001b[39m [i\u001b[38;5;241m.\u001b[39msplit(\u001b[38;5;124m'\u001b[39m\u001b[38;5;124m.\u001b[39m\u001b[38;5;124m'\u001b[39m)[\u001b[38;5;241m0\u001b[39m] \u001b[38;5;28;01mfor\u001b[39;00m i \u001b[38;5;129;01min\u001b[39;00m fpaths]\n\u001b[1;32m      4\u001b[0m \u001b[38;5;28;01mfor\u001b[39;00m f, n \u001b[38;5;129;01min\u001b[39;00m \u001b[38;5;28mzip\u001b[39m(fpaths, sample_names):\n\u001b[0;32m----> 5\u001b[0m     c_list\u001b[38;5;241m.\u001b[39mappend(predict_on_test_csvs(f, c_container, regressand, \u001b[38;5;124m'\u001b[39m\u001b[38;5;124mcellulose\u001b[39m\u001b[38;5;124m'\u001b[39m,sample_name\u001b[38;5;241m=\u001b[39mn, print_sample \u001b[38;5;241m=\u001b[39m \u001b[38;5;28;01mTrue\u001b[39;00m, printres\u001b[38;5;241m=\u001b[39m\u001b[38;5;28;01mTrue\u001b[39;00m))\n\u001b[1;32m      6\u001b[0m     h_list\u001b[38;5;241m.\u001b[39mappend(predict_on_test_csvs(f, h_container, regressand, \u001b[38;5;124m'\u001b[39m\u001b[38;5;124mhemicellulose\u001b[39m\u001b[38;5;124m'\u001b[39m,sample_name\u001b[38;5;241m=\u001b[39mn, printres\u001b[38;5;241m=\u001b[39m\u001b[38;5;28;01mTrue\u001b[39;00m))\n\u001b[1;32m      7\u001b[0m     l_list\u001b[38;5;241m.\u001b[39mappend(predict_on_test_csvs(f, l_container, regressand, \u001b[38;5;124m'\u001b[39m\u001b[38;5;124mlignin\u001b[39m\u001b[38;5;124m'\u001b[39m, sample_name\u001b[38;5;241m=\u001b[39mn, printres\u001b[38;5;241m=\u001b[39m\u001b[38;5;28;01mTrue\u001b[39;00m))\n",
      "Cell \u001b[0;32mIn[14], line 26\u001b[0m, in \u001b[0;36mpredict_on_test_csvs\u001b[0;34m(fpath, bestmodel_container, regressand, target, sample_name, print_sample, printres)\u001b[0m\n\u001b[1;32m     23\u001b[0m new_data_dy \u001b[38;5;241m=\u001b[39m np\u001b[38;5;241m.\u001b[39marray(new_data[regressand])\u001b[38;5;241m.\u001b[39mreshape(\u001b[38;5;241m1\u001b[39m,\u001b[38;5;241m-\u001b[39m\u001b[38;5;241m1\u001b[39m)\n\u001b[1;32m     25\u001b[0m predictor \u001b[38;5;241m=\u001b[39m bestmodel_container[\u001b[38;5;241m0\u001b[39m]\n\u001b[0;32m---> 26\u001b[0m prediction \u001b[38;5;241m=\u001b[39m predictor\u001b[38;5;241m.\u001b[39mpredict(new_data_dy)\n\u001b[1;32m     28\u001b[0m \u001b[38;5;66;03m# discard unwanted nested lists\u001b[39;00m\n\u001b[1;32m     29\u001b[0m \u001b[38;5;28;01mfor\u001b[39;00m i \u001b[38;5;129;01min\u001b[39;00m prediction\u001b[38;5;241m.\u001b[39mshape:\n",
      "File \u001b[0;32m~/miniconda3/envs/cornstover/lib/python3.11/site-packages/sklearn/kernel_ridge.py:236\u001b[0m, in \u001b[0;36mKernelRidge.predict\u001b[0;34m(self, X)\u001b[0m\n\u001b[1;32m    220\u001b[0m \u001b[38;5;250m\u001b[39m\u001b[38;5;124;03m\"\"\"Predict using the kernel ridge model.\u001b[39;00m\n\u001b[1;32m    221\u001b[0m \n\u001b[1;32m    222\u001b[0m \u001b[38;5;124;03mParameters\u001b[39;00m\n\u001b[0;32m   (...)\u001b[0m\n\u001b[1;32m    233\u001b[0m \u001b[38;5;124;03m    Returns predicted values.\u001b[39;00m\n\u001b[1;32m    234\u001b[0m \u001b[38;5;124;03m\"\"\"\u001b[39;00m\n\u001b[1;32m    235\u001b[0m check_is_fitted(\u001b[38;5;28mself\u001b[39m)\n\u001b[0;32m--> 236\u001b[0m X \u001b[38;5;241m=\u001b[39m \u001b[38;5;28mself\u001b[39m\u001b[38;5;241m.\u001b[39m_validate_data(X, accept_sparse\u001b[38;5;241m=\u001b[39m(\u001b[38;5;124m\"\u001b[39m\u001b[38;5;124mcsr\u001b[39m\u001b[38;5;124m\"\u001b[39m, \u001b[38;5;124m\"\u001b[39m\u001b[38;5;124mcsc\u001b[39m\u001b[38;5;124m\"\u001b[39m), reset\u001b[38;5;241m=\u001b[39m\u001b[38;5;28;01mFalse\u001b[39;00m)\n\u001b[1;32m    237\u001b[0m K \u001b[38;5;241m=\u001b[39m \u001b[38;5;28mself\u001b[39m\u001b[38;5;241m.\u001b[39m_get_kernel(X, \u001b[38;5;28mself\u001b[39m\u001b[38;5;241m.\u001b[39mX_fit_)\n\u001b[1;32m    238\u001b[0m \u001b[38;5;28;01mreturn\u001b[39;00m np\u001b[38;5;241m.\u001b[39mdot(K, \u001b[38;5;28mself\u001b[39m\u001b[38;5;241m.\u001b[39mdual_coef_)\n",
      "File \u001b[0;32m~/miniconda3/envs/cornstover/lib/python3.11/site-packages/sklearn/base.py:588\u001b[0m, in \u001b[0;36mBaseEstimator._validate_data\u001b[0;34m(self, X, y, reset, validate_separately, **check_params)\u001b[0m\n\u001b[1;32m    585\u001b[0m     out \u001b[38;5;241m=\u001b[39m X, y\n\u001b[1;32m    587\u001b[0m \u001b[38;5;28;01mif\u001b[39;00m \u001b[38;5;129;01mnot\u001b[39;00m no_val_X \u001b[38;5;129;01mand\u001b[39;00m check_params\u001b[38;5;241m.\u001b[39mget(\u001b[38;5;124m\"\u001b[39m\u001b[38;5;124mensure_2d\u001b[39m\u001b[38;5;124m\"\u001b[39m, \u001b[38;5;28;01mTrue\u001b[39;00m):\n\u001b[0;32m--> 588\u001b[0m     \u001b[38;5;28mself\u001b[39m\u001b[38;5;241m.\u001b[39m_check_n_features(X, reset\u001b[38;5;241m=\u001b[39mreset)\n\u001b[1;32m    590\u001b[0m \u001b[38;5;28;01mreturn\u001b[39;00m out\n",
      "File \u001b[0;32m~/miniconda3/envs/cornstover/lib/python3.11/site-packages/sklearn/base.py:389\u001b[0m, in \u001b[0;36mBaseEstimator._check_n_features\u001b[0;34m(self, X, reset)\u001b[0m\n\u001b[1;32m    386\u001b[0m     \u001b[38;5;28;01mreturn\u001b[39;00m\n\u001b[1;32m    388\u001b[0m \u001b[38;5;28;01mif\u001b[39;00m n_features \u001b[38;5;241m!=\u001b[39m \u001b[38;5;28mself\u001b[39m\u001b[38;5;241m.\u001b[39mn_features_in_:\n\u001b[0;32m--> 389\u001b[0m     \u001b[38;5;28;01mraise\u001b[39;00m \u001b[38;5;167;01mValueError\u001b[39;00m(\n\u001b[1;32m    390\u001b[0m         \u001b[38;5;124mf\u001b[39m\u001b[38;5;124m\"\u001b[39m\u001b[38;5;124mX has \u001b[39m\u001b[38;5;132;01m{\u001b[39;00mn_features\u001b[38;5;132;01m}\u001b[39;00m\u001b[38;5;124m features, but \u001b[39m\u001b[38;5;132;01m{\u001b[39;00m\u001b[38;5;28mself\u001b[39m\u001b[38;5;241m.\u001b[39m\u001b[38;5;18m__class__\u001b[39m\u001b[38;5;241m.\u001b[39m\u001b[38;5;18m__name__\u001b[39m\u001b[38;5;132;01m}\u001b[39;00m\u001b[38;5;124m \u001b[39m\u001b[38;5;124m\"\u001b[39m\n\u001b[1;32m    391\u001b[0m         \u001b[38;5;124mf\u001b[39m\u001b[38;5;124m\"\u001b[39m\u001b[38;5;124mis expecting \u001b[39m\u001b[38;5;132;01m{\u001b[39;00m\u001b[38;5;28mself\u001b[39m\u001b[38;5;241m.\u001b[39mn_features_in_\u001b[38;5;132;01m}\u001b[39;00m\u001b[38;5;124m features as input.\u001b[39m\u001b[38;5;124m\"\u001b[39m\n\u001b[1;32m    392\u001b[0m     )\n",
      "\u001b[0;31mValueError\u001b[0m: X has 725 features, but KernelRidge is expecting 1450 features as input."
     ]
    }
   ],
   "source": [
    "fpaths = [i for i in os.listdir() if ('-' in i and ('.csv' in i or '.CSV' in i))]\n",
    "c_list, h_list, l_list = [], [], []\n",
    "sample_names = [i.split('.')[0] for i in fpaths]\n",
    "for f, n in zip(fpaths, sample_names):\n",
    "    c_list.append(predict_on_test_csvs(f, c_container, regressand, 'cellulose',sample_name=n, print_sample = True, printres=True))\n",
    "    h_list.append(predict_on_test_csvs(f, h_container, regressand, 'hemicellulose',sample_name=n, printres=True))\n",
    "    l_list.append(predict_on_test_csvs(f, l_container, regressand, 'lignin', sample_name=n, printres=True))\n",
    "\n"
   ]
  },
  {
   "cell_type": "markdown",
   "id": "c27b8f4f",
   "metadata": {},
   "source": [
    "There is a problem, though. These do not necessarily sum up to 1. However, presumably we can compare between the model results and test values."
   ]
  },
  {
   "cell_type": "code",
   "execution_count": 21,
   "id": "6f0fa02c",
   "metadata": {},
   "outputs": [
    {
     "data": {
      "text/plain": [
       "<matplotlib.legend.Legend at 0x28311dc10>"
      ]
     },
     "execution_count": 21,
     "metadata": {},
     "output_type": "execute_result"
    },
    {
     "data": {
      "image/png": "[encoded data removed]",
      "text/plain": [
       "<Figure size 640x480 with 1 Axes>"
      ]
     },
     "metadata": {},
     "output_type": "display_data"
    }
   ],
   "source": [
    "fig, ax = plt.subplots()\n",
    "xxx = np.arange(len(c_list))\n",
    "c_list = np.array(c_list)\n",
    "h_list = np.array(h_list)\n",
    "l_list = np.array(l_list)\n",
    "sum_list = c_list + h_list + l_list\n",
    "ax.plot(xxx, c_list, 'o', label='cellulose')\n",
    "ax.plot(xxx, h_list, 'o', label = 'hemicellulose')\n",
    "ax.plot(xxx, l_list, 'o', label = 'lignin')\n",
    "ax.plot(xxx, sum_list, 'o', label = 'sum')\n",
    "\n",
    "# for counter, (c, h, l, x) in enumerate(zip(c_list, h_list, l_list,xxx)):\n",
    "#     if counter == 0:\n",
    "#         ax.plot(x,c, 'o', color='black', label='cellulose')\n",
    "#         ax.plot(x, h, 'o', color = 'green', label = 'hemicellulose')\n",
    "#         ax.plot(x,l, 'o', color='red', label='lignin')\n",
    "#         ax.plot(x, l + c + h, color = 'orange', label ='sum')\n",
    "\n",
    "\n",
    "\n",
    "ax.plot(xxx, np.ones_like(xxx))\n",
    "ax.legend()\n"
   ]
  },
  {
   "cell_type": "code",
   "execution_count": null,
   "id": "7829d465",
   "metadata": {},
   "outputs": [],
   "source": []
  }
 ],
 "metadata": {
  "kernelspec": {
   "display_name": "Python 3 (ipykernel)",
   "language": "python",
   "name": "python3"
  },
  "language_info": {
   "codemirror_mode": {
    "name": "ipython",
    "version": 3
   },
   "file_extension": ".py",
   "mimetype": "text/x-python",
   "name": "python",
   "nbconvert_exporter": "python",
   "pygments_lexer": "ipython3",
   "version": "3.11.5"
  }
 },
 "nbformat": 4,
 "nbformat_minor": 5
}
