{
 "cells": [
  {
   "cell_type": "code",
   "execution_count": 1,
   "id": "d808f483-a183-416a-afa3-bc224068205f",
   "metadata": {
    "tags": []
   },
   "outputs": [],
   "source": [
    "import pickle\n",
    "import os\n",
    "import pandas as pd\n",
    "import numpy as np\n",
    "import matplotlib.pyplot as plt\n",
    "from scipy.interpolate import griddata\n",
    "from mixture_composition_regression.examples.cellulose_example.helper_functions import *\n",
    "from pathlib import Path"
   ]
  },
  {
   "cell_type": "markdown",
   "id": "e18a61b0",
   "metadata": {},
   "source": [
    "### Load models"
   ]
  },
  {
   "cell_type": "code",
   "execution_count": 3,
   "id": "94d0b5d8-71f7-420e-abce-b52fcbbb834f",
   "metadata": {
    "tags": []
   },
   "outputs": [],
   "source": [
    "predictor_files = ['cellulose_predictor.pkl', 'hemi_predictor.pkl', 'lignin_predictor.pkl', 'rot_predictor.pkl']\n",
    "predictor_files = ['./trained_models/' + p for p in predictor_files]\n",
    "predictor_metadata_files = [p.split('.pkl')[0] + '_meta.txt' for p in predictor_files] \n",
    "\n",
    "ranges = read_range_files(predictor_metadata_files)\n",
    "predictors = read_predictor_files(predictor_files)\n",
    "containers = [[j,i] for i, j in zip(ranges, predictors)]\n",
    "c_container = containers[0]\n",
    "h_container = containers[1]\n",
    "l_container = containers[2]\n",
    "r_container = containers[3]"
   ]
  },
  {
   "cell_type": "code",
   "execution_count": 16,
   "id": "c122906f",
   "metadata": {},
   "outputs": [
    {
     "data": {
      "text/plain": [
       "[Ridge(alpha=0.00017012542798525892), [501.0, 4000.0]]"
      ]
     },
     "execution_count": 16,
     "metadata": {},
     "output_type": "execute_result"
    }
   ],
   "source": [
    "l_container"
   ]
  },
  {
   "cell_type": "markdown",
   "id": "283492f2",
   "metadata": {},
   "source": [
    "### Read in data files"
   ]
  },
  {
   "cell_type": "code",
   "execution_count": 11,
   "id": "36dbe5d4",
   "metadata": {},
   "outputs": [],
   "source": [
    "p = Path('/Users/Columbia_Kartik Chandran/Lignocellulose/WRF+lignocellulose/') # define the path to the current data\n",
    "files = p.rglob('*.CSV' and '*-*') # find all the files with *.CSV in their name and a dash (i.e. to exclude composition.csv)\n",
    "file_list = [str(file) for file in list(files)] # create a list with the string version of the filepath\n",
    "\n",
    "# creat a list of dataframes\n",
    "\n",
    "\n",
    "# Get the x coordinate that we want to re-grid our data onto. \n",
    "# This x coordinate *must* be the same as what the model was trained on.\n",
    "# In this case, the training data is in the same folder, so we can use the x coordinate of one of the\n",
    "# files as our xgrid.\n",
    "data = [pd.read_csv(file) for file in file_list]\n",
    "\n",
    "\n",
    "data = [df.rename(columns={df.columns[0]:'x', df.columns[1]:'y'}) for df in data]\n",
    "xgrid = data[0]['x'] \n"
   ]
  },
  {
   "cell_type": "code",
   "execution_count": 15,
   "id": "5a8dc8ef",
   "metadata": {},
   "outputs": [],
   "source": [
    "predict_on_test_csvs?"
   ]
  },
  {
   "cell_type": "code",
   "execution_count": 17,
   "id": "eaa626aa-1b31-499e-94ad-9f2caf168cbf",
   "metadata": {
    "tags": []
   },
   "outputs": [
    {
     "ename": "ValueError",
     "evalue": "X has 7257 features, but Ridge is expecting 798 features as input.",
     "output_type": "error",
     "traceback": [
      "\u001b[0;31m---------------------------------------------------------------------------\u001b[0m",
      "\u001b[0;31mValueError\u001b[0m                                Traceback (most recent call last)",
      "Cell \u001b[0;32mIn[17], line 8\u001b[0m\n\u001b[1;32m      5\u001b[0m regressand \u001b[38;5;241m=\u001b[39m \u001b[38;5;124m'\u001b[39m\u001b[38;5;124mda\u001b[39m\u001b[38;5;124m'\u001b[39m\n\u001b[1;32m      6\u001b[0m \u001b[38;5;28;01mfor\u001b[39;00m f, n \u001b[38;5;129;01min\u001b[39;00m \u001b[38;5;28mzip\u001b[39m(file_list, sample_names):\n\u001b[0;32m----> 8\u001b[0m     l \u001b[38;5;241m=\u001b[39m predict_on_test_csvs(f, l_container, regressand, \u001b[38;5;124m'\u001b[39m\u001b[38;5;124mlignin\u001b[39m\u001b[38;5;124m'\u001b[39m, sample_name\u001b[38;5;241m=\u001b[39mn, \n\u001b[1;32m      9\u001b[0m                              printres\u001b[38;5;241m=\u001b[39m\u001b[38;5;28;01mTrue\u001b[39;00m, xgrid\u001b[38;5;241m=\u001b[39mxgrid, print_sample\u001b[38;5;241m=\u001b[39m\u001b[38;5;28;01mTrue\u001b[39;00m)\n\u001b[1;32m     10\u001b[0m     l_list\u001b[38;5;241m.\u001b[39mappend(l)\n\u001b[1;32m     12\u001b[0m     c \u001b[38;5;241m=\u001b[39m predict_on_test_csvs(f, c_container, regressand, \u001b[38;5;124m'\u001b[39m\u001b[38;5;124mcellulose\u001b[39m\u001b[38;5;124m'\u001b[39m,sample_name\u001b[38;5;241m=\u001b[39mn, \n\u001b[1;32m     13\u001b[0m                              xgrid \u001b[38;5;241m=\u001b[39m xgrid,\n\u001b[1;32m     14\u001b[0m                              printres\u001b[38;5;241m=\u001b[39m\u001b[38;5;28;01mTrue\u001b[39;00m)\n",
      "File \u001b[0;32m~/projects/mixture_composition_regression/mixture_composition_regression/examples/cellulose_example/helper_functions.py:62\u001b[0m, in \u001b[0;36mpredict_on_test_csvs\u001b[0;34m(fpath, bestmodel_container, regressand, target, sample_name, print_sample, printres, xgrid)\u001b[0m\n\u001b[1;32m     60\u001b[0m predictor \u001b[38;5;241m=\u001b[39m bestmodel_container[\u001b[38;5;241m0\u001b[39m]\n\u001b[1;32m     61\u001b[0m \u001b[38;5;66;03m# try:\u001b[39;00m\n\u001b[0;32m---> 62\u001b[0m prediction \u001b[38;5;241m=\u001b[39m predictor\u001b[38;5;241m.\u001b[39mpredict(new_data_dy)\n\u001b[1;32m     63\u001b[0m \u001b[38;5;66;03m# except ValueError as ve:\u001b[39;00m\n\u001b[1;32m     64\u001b[0m \u001b[38;5;66;03m#     print(ve)\u001b[39;00m\n\u001b[1;32m     65\u001b[0m \u001b[38;5;66;03m#     print('Sample: {}'.format(sample_name))\u001b[39;00m\n\u001b[1;32m     66\u001b[0m \u001b[38;5;66;03m#     print(new_data_dy)\u001b[39;00m\n\u001b[1;32m     67\u001b[0m \n\u001b[1;32m     68\u001b[0m \u001b[38;5;66;03m# discard unwanted nested lists\u001b[39;00m\n\u001b[1;32m     69\u001b[0m \u001b[38;5;28;01mfor\u001b[39;00m i \u001b[38;5;129;01min\u001b[39;00m prediction\u001b[38;5;241m.\u001b[39mshape:\n",
      "File \u001b[0;32m~/miniconda3/envs/cornstover/lib/python3.11/site-packages/sklearn/linear_model/_base.py:354\u001b[0m, in \u001b[0;36mLinearModel.predict\u001b[0;34m(self, X)\u001b[0m\n\u001b[1;32m    340\u001b[0m \u001b[38;5;28;01mdef\u001b[39;00m \u001b[38;5;21mpredict\u001b[39m(\u001b[38;5;28mself\u001b[39m, X):\n\u001b[1;32m    341\u001b[0m \u001b[38;5;250m    \u001b[39m\u001b[38;5;124;03m\"\"\"\u001b[39;00m\n\u001b[1;32m    342\u001b[0m \u001b[38;5;124;03m    Predict using the linear model.\u001b[39;00m\n\u001b[1;32m    343\u001b[0m \n\u001b[0;32m   (...)\u001b[0m\n\u001b[1;32m    352\u001b[0m \u001b[38;5;124;03m        Returns predicted values.\u001b[39;00m\n\u001b[1;32m    353\u001b[0m \u001b[38;5;124;03m    \"\"\"\u001b[39;00m\n\u001b[0;32m--> 354\u001b[0m     \u001b[38;5;28;01mreturn\u001b[39;00m \u001b[38;5;28mself\u001b[39m\u001b[38;5;241m.\u001b[39m_decision_function(X)\n",
      "File \u001b[0;32m~/miniconda3/envs/cornstover/lib/python3.11/site-packages/sklearn/linear_model/_base.py:337\u001b[0m, in \u001b[0;36mLinearModel._decision_function\u001b[0;34m(self, X)\u001b[0m\n\u001b[1;32m    334\u001b[0m \u001b[38;5;28;01mdef\u001b[39;00m \u001b[38;5;21m_decision_function\u001b[39m(\u001b[38;5;28mself\u001b[39m, X):\n\u001b[1;32m    335\u001b[0m     check_is_fitted(\u001b[38;5;28mself\u001b[39m)\n\u001b[0;32m--> 337\u001b[0m     X \u001b[38;5;241m=\u001b[39m \u001b[38;5;28mself\u001b[39m\u001b[38;5;241m.\u001b[39m_validate_data(X, accept_sparse\u001b[38;5;241m=\u001b[39m[\u001b[38;5;124m\"\u001b[39m\u001b[38;5;124mcsr\u001b[39m\u001b[38;5;124m\"\u001b[39m, \u001b[38;5;124m\"\u001b[39m\u001b[38;5;124mcsc\u001b[39m\u001b[38;5;124m\"\u001b[39m, \u001b[38;5;124m\"\u001b[39m\u001b[38;5;124mcoo\u001b[39m\u001b[38;5;124m\"\u001b[39m], reset\u001b[38;5;241m=\u001b[39m\u001b[38;5;28;01mFalse\u001b[39;00m)\n\u001b[1;32m    338\u001b[0m     \u001b[38;5;28;01mreturn\u001b[39;00m safe_sparse_dot(X, \u001b[38;5;28mself\u001b[39m\u001b[38;5;241m.\u001b[39mcoef_\u001b[38;5;241m.\u001b[39mT, dense_output\u001b[38;5;241m=\u001b[39m\u001b[38;5;28;01mTrue\u001b[39;00m) \u001b[38;5;241m+\u001b[39m \u001b[38;5;28mself\u001b[39m\u001b[38;5;241m.\u001b[39mintercept_\n",
      "File \u001b[0;32m~/miniconda3/envs/cornstover/lib/python3.11/site-packages/sklearn/base.py:588\u001b[0m, in \u001b[0;36mBaseEstimator._validate_data\u001b[0;34m(self, X, y, reset, validate_separately, **check_params)\u001b[0m\n\u001b[1;32m    585\u001b[0m     out \u001b[38;5;241m=\u001b[39m X, y\n\u001b[1;32m    587\u001b[0m \u001b[38;5;28;01mif\u001b[39;00m \u001b[38;5;129;01mnot\u001b[39;00m no_val_X \u001b[38;5;129;01mand\u001b[39;00m check_params\u001b[38;5;241m.\u001b[39mget(\u001b[38;5;124m\"\u001b[39m\u001b[38;5;124mensure_2d\u001b[39m\u001b[38;5;124m\"\u001b[39m, \u001b[38;5;28;01mTrue\u001b[39;00m):\n\u001b[0;32m--> 588\u001b[0m     \u001b[38;5;28mself\u001b[39m\u001b[38;5;241m.\u001b[39m_check_n_features(X, reset\u001b[38;5;241m=\u001b[39mreset)\n\u001b[1;32m    590\u001b[0m \u001b[38;5;28;01mreturn\u001b[39;00m out\n",
      "File \u001b[0;32m~/miniconda3/envs/cornstover/lib/python3.11/site-packages/sklearn/base.py:389\u001b[0m, in \u001b[0;36mBaseEstimator._check_n_features\u001b[0;34m(self, X, reset)\u001b[0m\n\u001b[1;32m    386\u001b[0m     \u001b[38;5;28;01mreturn\u001b[39;00m\n\u001b[1;32m    388\u001b[0m \u001b[38;5;28;01mif\u001b[39;00m n_features \u001b[38;5;241m!=\u001b[39m \u001b[38;5;28mself\u001b[39m\u001b[38;5;241m.\u001b[39mn_features_in_:\n\u001b[0;32m--> 389\u001b[0m     \u001b[38;5;28;01mraise\u001b[39;00m \u001b[38;5;167;01mValueError\u001b[39;00m(\n\u001b[1;32m    390\u001b[0m         \u001b[38;5;124mf\u001b[39m\u001b[38;5;124m\"\u001b[39m\u001b[38;5;124mX has \u001b[39m\u001b[38;5;132;01m{\u001b[39;00mn_features\u001b[38;5;132;01m}\u001b[39;00m\u001b[38;5;124m features, but \u001b[39m\u001b[38;5;132;01m{\u001b[39;00m\u001b[38;5;28mself\u001b[39m\u001b[38;5;241m.\u001b[39m\u001b[38;5;18m__class__\u001b[39m\u001b[38;5;241m.\u001b[39m\u001b[38;5;18m__name__\u001b[39m\u001b[38;5;132;01m}\u001b[39;00m\u001b[38;5;124m \u001b[39m\u001b[38;5;124m\"\u001b[39m\n\u001b[1;32m    391\u001b[0m         \u001b[38;5;124mf\u001b[39m\u001b[38;5;124m\"\u001b[39m\u001b[38;5;124mis expecting \u001b[39m\u001b[38;5;132;01m{\u001b[39;00m\u001b[38;5;28mself\u001b[39m\u001b[38;5;241m.\u001b[39mn_features_in_\u001b[38;5;132;01m}\u001b[39;00m\u001b[38;5;124m features as input.\u001b[39m\u001b[38;5;124m\"\u001b[39m\n\u001b[1;32m    392\u001b[0m     )\n",
      "\u001b[0;31mValueError\u001b[0m: X has 7257 features, but Ridge is expecting 798 features as input."
     ]
    }
   ],
   "source": [
    "# files = p.rglob('*.CSV' and '*-*')\n",
    "# fpaths = [str(file) for file in list(files)]\n",
    "c_list, h_list, l_list, r_list = [], [], [], []\n",
    "sample_names = [i.split('.')[0].split('/')[-1] for i in file_list]\n",
    "regressand = 'da'\n",
    "for f, n in zip(file_list, sample_names):\n",
    "    \n",
    "    l = predict_on_test_csvs(f, l_container, regressand, 'lignin', sample_name=n, \n",
    "                             printres=True, xgrid=xgrid, print_sample=True)\n",
    "    l_list.append(l)\n",
    "    \n",
    "    c = predict_on_test_csvs(f, c_container, regressand, 'cellulose',sample_name=n, \n",
    "                             xgrid = xgrid,\n",
    "                             printres=True)\n",
    "    c_list.append(c)\n",
    "    \n",
    "    h = predict_on_test_csvs(f, h_container, regressand, 'hemicellulose',sample_name=n, \n",
    "                             xgrid = xgrid, printres=True)\n",
    "    h_list.append(h)\n",
    "    \n",
    "    r = predict_on_test_csvs(f, r_container, regressand, 'rot', sample_name=n, \n",
    "                             xgrid = xgrid, printres=True)\n",
    "    r_list.append(h)\n"
   ]
  },
  {
   "cell_type": "code",
   "execution_count": 5,
   "id": "a7699415-e12f-45d1-acda-c9c4b879ea00",
   "metadata": {},
   "outputs": [
    {
     "data": {
      "text/plain": [
       "[0.11148708376677083,\n",
       " -0.041539163256267664,\n",
       " 0.08546475232822473,\n",
       " 0.6478641250537006,\n",
       " 1.47412161625826,\n",
       " 0.29464558152375936,\n",
       " 0.1456686723073324,\n",
       " 0.6217946121625197,\n",
       " 0.24207842646643238,\n",
       " 0.3427904920292675,\n",
       " 0.491973355774596,\n",
       " 0.38691271919039477,\n",
       " 0.4486038848687533,\n",
       " 0.5131299732690165,\n",
       " 0.34325488672969606,\n",
       " 0.6706717281066712,\n",
       " 0.14639589469835368,\n",
       " 0.19602295736657027,\n",
       " 0.7043913851568123,\n",
       " 0.025602825046464384,\n",
       " 0.5638744342172191,\n",
       " 0.40239462855739083,\n",
       " 0.3612796135195795]"
      ]
     },
     "execution_count": 5,
     "metadata": {},
     "output_type": "execute_result"
    }
   ],
   "source": [
    "h_list"
   ]
  },
  {
   "cell_type": "code",
   "execution_count": null,
   "id": "5d63f9fe",
   "metadata": {},
   "outputs": [],
   "source": []
  }
 ],
 "metadata": {
  "kernelspec": {
   "display_name": "Python 3 (ipykernel)",
   "language": "python",
   "name": "python3"
  },
  "language_info": {
   "codemirror_mode": {
    "name": "ipython",
    "version": 3
   },
   "file_extension": ".py",
   "mimetype": "text/x-python",
   "name": "python",
   "nbconvert_exporter": "python",
   "pygments_lexer": "ipython3",
   "version": "3.11.5"
  }
 },
 "nbformat": 4,
 "nbformat_minor": 5
}
