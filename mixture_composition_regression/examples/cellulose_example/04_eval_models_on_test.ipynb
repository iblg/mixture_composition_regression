{
 "cells": [
  {
   "cell_type": "markdown",
   "id": "4e88817e",
   "metadata": {},
   "source": [
    "### Open the trained models"
   ]
  },
  {
   "cell_type": "code",
   "execution_count": 6,
   "id": "49beb703",
   "metadata": {},
   "outputs": [],
   "source": [
    "import pickle\n",
    "import os\n",
    "import pandas as pd\n",
    "import numpy as np\n",
    "import matplotlib.pyplot as plt"
   ]
  },
  {
   "cell_type": "code",
   "execution_count": 7,
   "id": "2dffda70",
   "metadata": {},
   "outputs": [],
   "source": [
    "def read_range_files(filenames:list):\n",
    "    ranges = []\n",
    "    \n",
    "    for f in filenames:\n",
    "        with open(f, 'r') as file:\n",
    "            ranges.append(file.readlines())\n",
    "        \n",
    "    ranges = [float(i.strip()) for row in ranges for i in row]\n",
    "    ranges = [[ranges[idx], ranges[idx+1]] for idx, i in enumerate(ranges) if idx % 2 == 0]\n",
    "    \n",
    "    return ranges\n",
    "\n",
    "\n",
    "def read_predictor_files(filenames:list):\n",
    "    \n",
    "    predictors = []\n",
    "    for f in predictor_files:\n",
    "        with open(f, 'rb') as file:\n",
    "            predictors.append(pickle.load(file))\n",
    "    return predictors\n",
    "\n",
    "def predict_on_test_csvs(fpath, bestmodel_container, regressand, target, sample_name=None, print_sample=False, printres=False):\n",
    "    new_data = pd.read_csv(fpath, \n",
    "#                        names=['wavenumber', 'absorbance'], \n",
    "                       header=0, # it was reading in the first row as data and causing problems. So I just had it read the column namese from the first row\n",
    "                       dtype='float')  \n",
    "    \n",
    "    # renamed for less typing, but you can absolutely get rid of these column names and just rename to your preference\n",
    "    new_data = new_data.rename(columns={new_data.columns[0]:'x', new_data.columns[1]:'y'}) \n",
    "\n",
    "    # because if you look higher in the code, we are currently regressing on the derivative of the data\n",
    "    # so I calculated the derivative here\n",
    "    if regressand == 'a':\n",
    "        new_data[regressand] = new_data['y']\n",
    "    if regressand == 'da':\n",
    "        new_data[regressand] = new_data['y'].diff() \n",
    "    elif regressand == 'd2a':\n",
    "        new_data[regressand] = new_data['y'].diff(order=2)\n",
    "\n",
    "\n",
    "    # get the wavelength window we care about and slice the data, only keeping that stuff\n",
    "    window = bestmodel_container[1] \n",
    "    new_data = new_data.where(new_data['x'] > window[0]).where(new_data['x'] < window[1]).dropna()\n",
    "    new_data_dy = np.array(new_data[regressand]).reshape(1,-1)\n",
    "\n",
    "    predictor = bestmodel_container[0]\n",
    "    prediction = predictor.predict(new_data_dy)\n",
    "    \n",
    "    # discard unwanted nested lists\n",
    "    for i in prediction.shape:\n",
    "        prediction = prediction[0] \n",
    "        \n",
    "    if print_sample is True:\n",
    "        print('Sample: {}'.format(sample_name))\n",
    "        \n",
    "    if printres:\n",
    "        print(\"predicted composition {} {:1.3f}\".format(target, prediction))\n",
    "    return prediction"
   ]
  },
  {
   "cell_type": "code",
   "execution_count": 8,
   "id": "1346e261",
   "metadata": {},
   "outputs": [
    {
     "name": "stderr",
     "output_type": "stream",
     "text": [
      "/Library/Frameworks/Python.framework/Versions/3.11/lib/python3.11/site-packages/sklearn/base.py:347: InconsistentVersionWarning: Trying to unpickle estimator KernelRidge from version 1.2.2 when using version 1.3.0. This might lead to breaking code or invalid results. Use at your own risk. For more info please refer to:\n",
      "https://scikit-learn.org/stable/model_persistence.html#security-maintainability-limitations\n",
      "  warnings.warn(\n"
     ]
    }
   ],
   "source": [
    "predictor_files = ['cellulose_predictor.pkl', 'hemi_predictor.pkl', 'lignin_predictor.pkl']\n",
    "predictor_files = ['./trained_models/' + p for p in predictor_files]\n",
    "predictor_metadata_files = [p.split('.pkl')[0] + '_meta.txt' for p in predictor_files] \n",
    "\n",
    "ranges = read_range_files(predictor_metadata_files)\n",
    "predictors = read_predictor_files(predictor_files)\n",
    "containers = [[j,i] for i, j in zip(ranges, predictors)]\n",
    "c_container = containers[0]\n",
    "h_container = containers[1]\n",
    "l_container = containers[2]"
   ]
  },
  {
   "cell_type": "code",
   "execution_count": 9,
   "id": "69f83ac3",
   "metadata": {},
   "outputs": [
    {
     "name": "stdout",
     "output_type": "stream",
     "text": [
      "Sample: T2-1\n",
      "predicted composition lignin 0.466\n",
      "predicted composition cellulose 0.339\n",
      "predicted composition hemicellulose 0.119\n",
      "Sample: T2-3\n",
      "predicted composition lignin 0.700\n",
      "predicted composition cellulose 0.173\n",
      "predicted composition hemicellulose 0.099\n",
      "Sample: T2-2\n",
      "predicted composition lignin 0.633\n",
      "predicted composition cellulose 0.257\n",
      "predicted composition hemicellulose 0.184\n",
      "Sample: T6-2\n",
      "predicted composition lignin -0.223\n",
      "predicted composition cellulose 0.449\n",
      "predicted composition hemicellulose 0.014\n",
      "Sample: T6-3\n",
      "predicted composition lignin -0.915\n",
      "predicted composition cellulose 0.076\n",
      "predicted composition hemicellulose -0.060\n",
      "Sample: T4-1\n",
      "predicted composition lignin 0.284\n",
      "predicted composition cellulose 0.203\n",
      "predicted composition hemicellulose 0.357\n",
      "Sample: T4-3\n",
      "predicted composition lignin 0.496\n",
      "predicted composition cellulose 0.061\n",
      "predicted composition hemicellulose 0.472\n",
      "Sample: T6-1\n",
      "predicted composition lignin -0.375\n",
      "predicted composition cellulose 0.410\n",
      "predicted composition hemicellulose -0.077\n",
      "Sample: T4-2\n",
      "predicted composition lignin 0.347\n",
      "predicted composition cellulose 0.120\n",
      "predicted composition hemicellulose 0.405\n",
      "Sample: T3-3\n",
      "predicted composition lignin 0.163\n",
      "predicted composition cellulose 0.257\n",
      "predicted composition hemicellulose 0.524\n",
      "Sample: T1-1\n",
      "predicted composition lignin 0.121\n",
      "predicted composition cellulose 0.428\n",
      "predicted composition hemicellulose 0.681\n",
      "Sample: T3-2\n",
      "predicted composition lignin 0.114\n",
      "predicted composition cellulose 0.334\n",
      "predicted composition hemicellulose 0.634\n",
      "Sample: T1-2\n",
      "predicted composition lignin 0.142\n",
      "predicted composition cellulose 0.376\n",
      "predicted composition hemicellulose 0.475\n",
      "Sample: T1-3\n",
      "predicted composition lignin 0.162\n",
      "predicted composition cellulose 0.243\n",
      "predicted composition hemicellulose 0.691\n",
      "Sample: T3-1\n",
      "predicted composition lignin 0.153\n",
      "predicted composition cellulose 0.410\n",
      "predicted composition hemicellulose 0.468\n",
      "Sample: T7-1\n",
      "predicted composition lignin -0.201\n",
      "predicted composition cellulose 0.367\n",
      "predicted composition hemicellulose 0.711\n",
      "Sample: T5-3\n",
      "predicted composition lignin 0.477\n",
      "predicted composition cellulose 0.076\n",
      "predicted composition hemicellulose 0.167\n",
      "Sample: T5-2\n",
      "predicted composition lignin 0.436\n",
      "predicted composition cellulose 0.126\n",
      "predicted composition hemicellulose 0.139\n",
      "Sample: T7-2\n",
      "predicted composition lignin -0.312\n",
      "predicted composition cellulose 0.338\n",
      "predicted composition hemicellulose 0.689\n",
      "Sample: T5-1\n",
      "predicted composition lignin 0.472\n",
      "predicted composition cellulose 0.057\n",
      "predicted composition hemicellulose 0.163\n",
      "Sample: T7-3\n",
      "predicted composition lignin -0.057\n",
      "predicted composition cellulose 0.396\n",
      "predicted composition hemicellulose 0.211\n"
     ]
    },
    {
     "ename": "ValueError",
     "evalue": "X has 71 features, but KernelRidge is expecting 143 features as input.",
     "output_type": "error",
     "traceback": [
      "\u001b[0;31m---------------------------------------------------------------------------\u001b[0m",
      "\u001b[0;31mValueError\u001b[0m                                Traceback (most recent call last)",
      "Cell \u001b[0;32mIn[9], line 6\u001b[0m\n\u001b[1;32m      4\u001b[0m regressand \u001b[38;5;241m=\u001b[39m \u001b[38;5;124m'\u001b[39m\u001b[38;5;124mda\u001b[39m\u001b[38;5;124m'\u001b[39m\n\u001b[1;32m      5\u001b[0m \u001b[38;5;28;01mfor\u001b[39;00m f, n \u001b[38;5;129;01min\u001b[39;00m \u001b[38;5;28mzip\u001b[39m(fpaths, sample_names):\n\u001b[0;32m----> 6\u001b[0m     l \u001b[38;5;241m=\u001b[39m \u001b[43mpredict_on_test_csvs\u001b[49m\u001b[43m(\u001b[49m\u001b[43mf\u001b[49m\u001b[43m,\u001b[49m\u001b[43m \u001b[49m\u001b[43ml_container\u001b[49m\u001b[43m,\u001b[49m\u001b[43m \u001b[49m\u001b[43mregressand\u001b[49m\u001b[43m,\u001b[49m\u001b[43m \u001b[49m\u001b[38;5;124;43m'\u001b[39;49m\u001b[38;5;124;43mlignin\u001b[39;49m\u001b[38;5;124;43m'\u001b[39;49m\u001b[43m,\u001b[49m\u001b[43m \u001b[49m\u001b[43msample_name\u001b[49m\u001b[38;5;241;43m=\u001b[39;49m\u001b[43mn\u001b[49m\u001b[43m,\u001b[49m\u001b[43m \u001b[49m\u001b[43mprintres\u001b[49m\u001b[38;5;241;43m=\u001b[39;49m\u001b[38;5;28;43;01mTrue\u001b[39;49;00m\u001b[43m,\u001b[49m\u001b[43m \u001b[49m\u001b[43mprint_sample\u001b[49m\u001b[38;5;241;43m=\u001b[39;49m\u001b[38;5;28;43;01mTrue\u001b[39;49;00m\u001b[43m)\u001b[49m\n\u001b[1;32m      7\u001b[0m     l_list\u001b[38;5;241m.\u001b[39mappend(l)\n\u001b[1;32m      8\u001b[0m     c \u001b[38;5;241m=\u001b[39m predict_on_test_csvs(f, c_container, regressand, \u001b[38;5;124m'\u001b[39m\u001b[38;5;124mcellulose\u001b[39m\u001b[38;5;124m'\u001b[39m,sample_name\u001b[38;5;241m=\u001b[39mn, printres\u001b[38;5;241m=\u001b[39m\u001b[38;5;28;01mTrue\u001b[39;00m)\n",
      "Cell \u001b[0;32mIn[7], line 47\u001b[0m, in \u001b[0;36mpredict_on_test_csvs\u001b[0;34m(fpath, bestmodel_container, regressand, target, sample_name, print_sample, printres)\u001b[0m\n\u001b[1;32m     44\u001b[0m new_data_dy \u001b[38;5;241m=\u001b[39m np\u001b[38;5;241m.\u001b[39marray(new_data[regressand])\u001b[38;5;241m.\u001b[39mreshape(\u001b[38;5;241m1\u001b[39m,\u001b[38;5;241m-\u001b[39m\u001b[38;5;241m1\u001b[39m)\n\u001b[1;32m     46\u001b[0m predictor \u001b[38;5;241m=\u001b[39m bestmodel_container[\u001b[38;5;241m0\u001b[39m]\n\u001b[0;32m---> 47\u001b[0m prediction \u001b[38;5;241m=\u001b[39m \u001b[43mpredictor\u001b[49m\u001b[38;5;241;43m.\u001b[39;49m\u001b[43mpredict\u001b[49m\u001b[43m(\u001b[49m\u001b[43mnew_data_dy\u001b[49m\u001b[43m)\u001b[49m\n\u001b[1;32m     49\u001b[0m \u001b[38;5;66;03m# discard unwanted nested lists\u001b[39;00m\n\u001b[1;32m     50\u001b[0m \u001b[38;5;28;01mfor\u001b[39;00m i \u001b[38;5;129;01min\u001b[39;00m prediction\u001b[38;5;241m.\u001b[39mshape:\n",
      "File \u001b[0;32m/Library/Frameworks/Python.framework/Versions/3.11/lib/python3.11/site-packages/sklearn/kernel_ridge.py:235\u001b[0m, in \u001b[0;36mKernelRidge.predict\u001b[0;34m(self, X)\u001b[0m\n\u001b[1;32m    219\u001b[0m \u001b[38;5;250m\u001b[39m\u001b[38;5;124;03m\"\"\"Predict using the kernel ridge model.\u001b[39;00m\n\u001b[1;32m    220\u001b[0m \n\u001b[1;32m    221\u001b[0m \u001b[38;5;124;03mParameters\u001b[39;00m\n\u001b[0;32m   (...)\u001b[0m\n\u001b[1;32m    232\u001b[0m \u001b[38;5;124;03m    Returns predicted values.\u001b[39;00m\n\u001b[1;32m    233\u001b[0m \u001b[38;5;124;03m\"\"\"\u001b[39;00m\n\u001b[1;32m    234\u001b[0m check_is_fitted(\u001b[38;5;28mself\u001b[39m)\n\u001b[0;32m--> 235\u001b[0m X \u001b[38;5;241m=\u001b[39m \u001b[38;5;28;43mself\u001b[39;49m\u001b[38;5;241;43m.\u001b[39;49m\u001b[43m_validate_data\u001b[49m\u001b[43m(\u001b[49m\u001b[43mX\u001b[49m\u001b[43m,\u001b[49m\u001b[43m \u001b[49m\u001b[43maccept_sparse\u001b[49m\u001b[38;5;241;43m=\u001b[39;49m\u001b[43m(\u001b[49m\u001b[38;5;124;43m\"\u001b[39;49m\u001b[38;5;124;43mcsr\u001b[39;49m\u001b[38;5;124;43m\"\u001b[39;49m\u001b[43m,\u001b[49m\u001b[43m \u001b[49m\u001b[38;5;124;43m\"\u001b[39;49m\u001b[38;5;124;43mcsc\u001b[39;49m\u001b[38;5;124;43m\"\u001b[39;49m\u001b[43m)\u001b[49m\u001b[43m,\u001b[49m\u001b[43m \u001b[49m\u001b[43mreset\u001b[49m\u001b[38;5;241;43m=\u001b[39;49m\u001b[38;5;28;43;01mFalse\u001b[39;49;00m\u001b[43m)\u001b[49m\n\u001b[1;32m    236\u001b[0m K \u001b[38;5;241m=\u001b[39m \u001b[38;5;28mself\u001b[39m\u001b[38;5;241m.\u001b[39m_get_kernel(X, \u001b[38;5;28mself\u001b[39m\u001b[38;5;241m.\u001b[39mX_fit_)\n\u001b[1;32m    237\u001b[0m \u001b[38;5;28;01mreturn\u001b[39;00m np\u001b[38;5;241m.\u001b[39mdot(K, \u001b[38;5;28mself\u001b[39m\u001b[38;5;241m.\u001b[39mdual_coef_)\n",
      "File \u001b[0;32m/Library/Frameworks/Python.framework/Versions/3.11/lib/python3.11/site-packages/sklearn/base.py:625\u001b[0m, in \u001b[0;36mBaseEstimator._validate_data\u001b[0;34m(self, X, y, reset, validate_separately, cast_to_ndarray, **check_params)\u001b[0m\n\u001b[1;32m    622\u001b[0m     out \u001b[38;5;241m=\u001b[39m X, y\n\u001b[1;32m    624\u001b[0m \u001b[38;5;28;01mif\u001b[39;00m \u001b[38;5;129;01mnot\u001b[39;00m no_val_X \u001b[38;5;129;01mand\u001b[39;00m check_params\u001b[38;5;241m.\u001b[39mget(\u001b[38;5;124m\"\u001b[39m\u001b[38;5;124mensure_2d\u001b[39m\u001b[38;5;124m\"\u001b[39m, \u001b[38;5;28;01mTrue\u001b[39;00m):\n\u001b[0;32m--> 625\u001b[0m     \u001b[38;5;28;43mself\u001b[39;49m\u001b[38;5;241;43m.\u001b[39;49m\u001b[43m_check_n_features\u001b[49m\u001b[43m(\u001b[49m\u001b[43mX\u001b[49m\u001b[43m,\u001b[49m\u001b[43m \u001b[49m\u001b[43mreset\u001b[49m\u001b[38;5;241;43m=\u001b[39;49m\u001b[43mreset\u001b[49m\u001b[43m)\u001b[49m\n\u001b[1;32m    627\u001b[0m \u001b[38;5;28;01mreturn\u001b[39;00m out\n",
      "File \u001b[0;32m/Library/Frameworks/Python.framework/Versions/3.11/lib/python3.11/site-packages/sklearn/base.py:414\u001b[0m, in \u001b[0;36mBaseEstimator._check_n_features\u001b[0;34m(self, X, reset)\u001b[0m\n\u001b[1;32m    411\u001b[0m     \u001b[38;5;28;01mreturn\u001b[39;00m\n\u001b[1;32m    413\u001b[0m \u001b[38;5;28;01mif\u001b[39;00m n_features \u001b[38;5;241m!=\u001b[39m \u001b[38;5;28mself\u001b[39m\u001b[38;5;241m.\u001b[39mn_features_in_:\n\u001b[0;32m--> 414\u001b[0m     \u001b[38;5;28;01mraise\u001b[39;00m \u001b[38;5;167;01mValueError\u001b[39;00m(\n\u001b[1;32m    415\u001b[0m         \u001b[38;5;124mf\u001b[39m\u001b[38;5;124m\"\u001b[39m\u001b[38;5;124mX has \u001b[39m\u001b[38;5;132;01m{\u001b[39;00mn_features\u001b[38;5;132;01m}\u001b[39;00m\u001b[38;5;124m features, but \u001b[39m\u001b[38;5;132;01m{\u001b[39;00m\u001b[38;5;28mself\u001b[39m\u001b[38;5;241m.\u001b[39m\u001b[38;5;18m__class__\u001b[39m\u001b[38;5;241m.\u001b[39m\u001b[38;5;18m__name__\u001b[39m\u001b[38;5;132;01m}\u001b[39;00m\u001b[38;5;124m \u001b[39m\u001b[38;5;124m\"\u001b[39m\n\u001b[1;32m    416\u001b[0m         \u001b[38;5;124mf\u001b[39m\u001b[38;5;124m\"\u001b[39m\u001b[38;5;124mis expecting \u001b[39m\u001b[38;5;132;01m{\u001b[39;00m\u001b[38;5;28mself\u001b[39m\u001b[38;5;241m.\u001b[39mn_features_in_\u001b[38;5;132;01m}\u001b[39;00m\u001b[38;5;124m features as input.\u001b[39m\u001b[38;5;124m\"\u001b[39m\n\u001b[1;32m    417\u001b[0m     )\n",
      "\u001b[0;31mValueError\u001b[0m: X has 71 features, but KernelRidge is expecting 143 features as input."
     ]
    }
   ],
   "source": [
    "fpaths = [i for i in os.listdir() if ('-' in i and ('.csv' in i or '.CSV' in i))]\n",
    "c_list, h_list, l_list = [], [], []\n",
    "sample_names = [i.split('.')[0] for i in fpaths]\n",
    "regressand = 'da'\n",
    "for f, n in zip(fpaths, sample_names):\n",
    "    l = predict_on_test_csvs(f, l_container, regressand, 'lignin', sample_name=n, printres=True, print_sample=True)\n",
    "    l_list.append(l)\n",
    "    c = predict_on_test_csvs(f, c_container, regressand, 'cellulose',sample_name=n, printres=True)\n",
    "    c_list.append(c)\n",
    "    h = predict_on_test_csvs(f, h_container, regressand, 'hemicellulose',sample_name=n, printres=True)\n",
    "    h_list.append(h)\n",
    "    # h_list.append(1 - c - l)\n",
    "\n"
   ]
  },
  {
   "cell_type": "markdown",
   "id": "c27b8f4f",
   "metadata": {},
   "source": [
    "There is a problem, though. These do not necessarily sum up to 1. However, presumably we can compare between the model results and test values."
   ]
  },
  {
   "cell_type": "code",
   "execution_count": 10,
   "id": "6f0fa02c",
   "metadata": {},
   "outputs": [
    {
     "data": {
      "text/plain": [
       "<matplotlib.legend.Legend at 0x175e9ce90>"
      ]
     },
     "execution_count": 10,
     "metadata": {},
     "output_type": "execute_result"
    },
    {
     "data": {
      "image/png": "[encoded data removed]",
      "text/plain": [
       "<Figure size 640x480 with 1 Axes>"
      ]
     },
     "metadata": {},
     "output_type": "display_data"
    }
   ],
   "source": [
    "fig, ax = plt.subplots()\n",
    "xxx = np.arange(len(c_list))\n",
    "c_list = np.array(c_list)\n",
    "h_list = np.array(h_list)\n",
    "l_list = np.array(l_list)\n",
    "sum_list = c_list + h_list + l_list\n",
    "ax.plot(xxx, c_list, 'o', label='cellulose')\n",
    "ax.plot(xxx, h_list, 'o', label = 'hemicellulose')\n",
    "ax.plot(xxx, l_list, 'o', label = 'lignin')\n",
    "ax.plot(xxx, sum_list, 'o', label = 'sum')\n",
    "\n",
    "# for counter, (c, h, l, x) in enumerate(zip(c_list, h_list, l_list,xxx)):\n",
    "#     if counter == 0:\n",
    "#         ax.plot(x,c, 'o', color='black', label='cellulose')\n",
    "#         ax.plot(x, h, 'o', color = 'green', label = 'hemicellulose')\n",
    "#         ax.plot(x,l, 'o', color='red', label='lignin')\n",
    "#         ax.plot(x, l + c + h, color = 'orange', label ='sum')\n",
    "\n",
    "\n",
    "\n",
    "ax.plot(xxx, np.ones_like(xxx))\n",
    "ax.legend()\n"
   ]
  },
  {
   "cell_type": "code",
   "execution_count": null,
   "id": "7829d465",
   "metadata": {},
   "outputs": [],
   "source": []
  }
 ],
 "metadata": {
  "kernelspec": {
   "display_name": "Python 3 (ipykernel)",
   "language": "python",
   "name": "python3"
  },
  "language_info": {
   "codemirror_mode": {
    "name": "ipython",
    "version": 3
   },
   "file_extension": ".py",
   "mimetype": "text/x-python",
   "name": "python",
   "nbconvert_exporter": "python",
   "pygments_lexer": "ipython3",
   "version": "3.11.4"
  }
 },
 "nbformat": 4,
 "nbformat_minor": 5
}
