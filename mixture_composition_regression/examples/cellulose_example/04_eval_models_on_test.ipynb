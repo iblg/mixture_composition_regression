{
 "cells": [
  {
   "cell_type": "markdown",
   "id": "4e88817e",
   "metadata": {},
   "source": [
    "### Open the trained models"
   ]
  },
  {
   "cell_type": "code",
   "execution_count": 2,
   "id": "49beb703",
   "metadata": {},
   "outputs": [],
   "source": [
    "import pickle\n",
    "import os\n",
    "import pandas as pd\n",
    "import numpy as np\n",
    "import matplotlib.pyplot as plt"
   ]
  },
  {
   "cell_type": "code",
   "execution_count": 3,
   "id": "2dffda70",
   "metadata": {},
   "outputs": [],
   "source": [
    "def read_range_files(filenames:list):\n",
    "    ranges = []\n",
    "    \n",
    "    for f in filenames:\n",
    "        with open(f, 'r') as file:\n",
    "            ranges.append(file.readlines())\n",
    "        \n",
    "    ranges = [float(i.strip()) for row in ranges for i in row]\n",
    "    ranges = [[ranges[idx], ranges[idx+1]] for idx, i in enumerate(ranges) if idx % 2 == 0]\n",
    "    \n",
    "    return ranges\n",
    "\n",
    "\n",
    "def read_predictor_files(filenames:list):\n",
    "    \n",
    "    predictors = []\n",
    "    for f in predictor_files:\n",
    "        with open(f, 'rb') as file:\n",
    "            predictors.append(pickle.load(file))\n",
    "    return predictors\n",
    "\n",
    "def predict_on_test_csvs(fpath, bestmodel_container, regressand, target, sample_name=None, print_sample=False, printres=False):\n",
    "    new_data = pd.read_csv(fpath, \n",
    "#                        names=['wavenumber', 'absorbance'], \n",
    "                       header=0, # it was reading in the first row as data and causing problems. So I just had it read the column namese from the first row\n",
    "                       dtype='float')  \n",
    "    \n",
    "    # renamed for less typing, but you can absolutely get rid of these column names and just rename to your preference\n",
    "    new_data = new_data.rename(columns={new_data.columns[0]:'x', new_data.columns[1]:'y'}) \n",
    "\n",
    "    # because if you look higher in the code, we are currently regressing on the derivative of the data\n",
    "    # so I calculated the derivative here\n",
    "    if regressand == 'a':\n",
    "        new_data[regressand] = new_data['y']\n",
    "    if regressand == 'da':\n",
    "        new_data[regressand] = new_data['y'].diff() \n",
    "    elif regressand == 'd2a':\n",
    "        new_data[regressand] = new_data['y'].diff(order=2)\n",
    "\n",
    "\n",
    "    # get the wavelength window we care about and slice the data, only keeping that stuff\n",
    "    window = bestmodel_container[1] \n",
    "    new_data = new_data.where(new_data['x'] > window[0]).where(new_data['x'] < window[1]).dropna()\n",
    "    new_data_dy = np.array(new_data[regressand]).reshape(1,-1)\n",
    "\n",
    "    predictor = bestmodel_container[0]\n",
    "    prediction = predictor.predict(new_data_dy)\n",
    "    \n",
    "    # discard unwanted nested lists\n",
    "    for i in prediction.shape:\n",
    "        prediction = prediction[0] \n",
    "        \n",
    "    if print_sample is True:\n",
    "        print('Sample: {}'.format(sample_name))\n",
    "        \n",
    "    if printres:\n",
    "        print(\"predicted composition {} {:1.3f}\".format(target, prediction))\n",
    "    return prediction"
   ]
  },
  {
   "cell_type": "code",
   "execution_count": 4,
   "id": "1346e261",
   "metadata": {},
   "outputs": [],
   "source": [
    "predictor_files = ['cellulose_predictor.pkl', 'hemi_predictor.pkl', 'lignin_predictor.pkl']\n",
    "predictor_files = ['./trained_models/' + p for p in predictor_files]\n",
    "predictor_metadata_files = [p.split('.pkl')[0] + '_meta.txt' for p in predictor_files] \n",
    "\n",
    "ranges = read_range_files(predictor_metadata_files)\n",
    "predictors = read_predictor_files(predictor_files)\n",
    "containers = [[j,i] for i, j in zip(ranges, predictors)]\n",
    "c_container = containers[0]\n",
    "h_container = containers[1]\n",
    "l_container = containers[2]"
   ]
  },
  {
   "cell_type": "code",
   "execution_count": null,
   "id": "5cb71337",
   "metadata": {},
   "outputs": [],
   "source": []
  },
  {
   "cell_type": "code",
   "execution_count": 5,
   "id": "69f83ac3",
   "metadata": {},
   "outputs": [
    {
     "name": "stdout",
     "output_type": "stream",
     "text": [
      "Sample: T2-1\n",
      "predicted composition lignin 0.466\n",
      "predicted composition cellulose 0.339\n",
      "predicted composition hemicellulose 0.119\n",
      "Sample: T2-3\n",
      "predicted composition lignin 0.700\n",
      "predicted composition cellulose 0.173\n",
      "predicted composition hemicellulose 0.099\n",
      "Sample: T2-2\n",
      "predicted composition lignin 0.633\n",
      "predicted composition cellulose 0.257\n",
      "predicted composition hemicellulose 0.184\n",
      "Sample: T4-1\n",
      "predicted composition lignin 0.284\n",
      "predicted composition cellulose 0.203\n",
      "predicted composition hemicellulose 0.357\n",
      "Sample: T4-3\n",
      "predicted composition lignin 0.496\n",
      "predicted composition cellulose 0.061\n",
      "predicted composition hemicellulose 0.472\n",
      "Sample: T4-2\n",
      "predicted composition lignin 0.347\n",
      "predicted composition cellulose 0.120\n",
      "predicted composition hemicellulose 0.405\n",
      "Sample: T3-3\n",
      "predicted composition lignin 0.163\n",
      "predicted composition cellulose 0.257\n",
      "predicted composition hemicellulose 0.524\n",
      "Sample: T1-1\n",
      "predicted composition lignin 0.121\n",
      "predicted composition cellulose 0.428\n",
      "predicted composition hemicellulose 0.681\n",
      "Sample: T3-2\n",
      "predicted composition lignin 0.114\n",
      "predicted composition cellulose 0.334\n",
      "predicted composition hemicellulose 0.634\n",
      "Sample: T1-2\n",
      "predicted composition lignin 0.142\n",
      "predicted composition cellulose 0.376\n",
      "predicted composition hemicellulose 0.475\n",
      "Sample: T1-3\n",
      "predicted composition lignin 0.162\n",
      "predicted composition cellulose 0.243\n",
      "predicted composition hemicellulose 0.691\n",
      "Sample: T3-1\n",
      "predicted composition lignin 0.153\n",
      "predicted composition cellulose 0.410\n",
      "predicted composition hemicellulose 0.468\n",
      "Sample: T5-3\n",
      "predicted composition lignin 0.477\n",
      "predicted composition cellulose 0.076\n",
      "predicted composition hemicellulose 0.167\n",
      "Sample: T5-2\n",
      "predicted composition lignin 0.436\n",
      "predicted composition cellulose 0.126\n",
      "predicted composition hemicellulose 0.139\n",
      "Sample: T5-1\n",
      "predicted composition lignin 0.472\n",
      "predicted composition cellulose 0.057\n",
      "predicted composition hemicellulose 0.163\n"
     ]
    }
   ],
   "source": [
    "fpaths = [i for i in os.listdir() if ('-' in i and ('.csv' in i or '.CSV' in i))]\n",
    "c_list, h_list, l_list = [], [], []\n",
    "sample_names = [i.split('.')[0] for i in fpaths]\n",
    "regressand = 'da'\n",
    "for f, n in zip(fpaths, sample_names):\n",
    "    l = predict_on_test_csvs(f, l_container, regressand, 'lignin', sample_name=n, printres=True, print_sample=True)\n",
    "    l_list.append(l)\n",
    "    c = predict_on_test_csvs(f, c_container, regressand, 'cellulose',sample_name=n, printres=True)\n",
    "    c_list.append(c)\n",
    "    h = predict_on_test_csvs(f, h_container, regressand, 'hemicellulose',sample_name=n, printres=True)\n",
    "    h_list.append(h)\n",
    "    # h_list.append(1 - c - l)\n",
    "\n"
   ]
  },
  {
   "cell_type": "markdown",
   "id": "c27b8f4f",
   "metadata": {},
   "source": [
    "There is a problem, though. These do not necessarily sum up to 1. However, presumably we can compare between the model results and test values."
   ]
  },
  {
   "cell_type": "code",
   "execution_count": 6,
   "id": "6f0fa02c",
   "metadata": {},
   "outputs": [
    {
     "data": {
      "text/plain": [
       "<matplotlib.legend.Legend at 0x1631c2610>"
      ]
     },
     "execution_count": 6,
     "metadata": {},
     "output_type": "execute_result"
    },
    {
     "data": {
      "image/png": "[encoded data removed]",
      "text/plain": [
       "<Figure size 640x480 with 1 Axes>"
      ]
     },
     "metadata": {},
     "output_type": "display_data"
    }
   ],
   "source": [
    "fig, ax = plt.subplots()\n",
    "xxx = np.arange(len(c_list))\n",
    "c_list = np.array(c_list)\n",
    "h_list = np.array(h_list)\n",
    "l_list = np.array(l_list)\n",
    "sum_list = c_list + h_list + l_list\n",
    "ax.plot(xxx, c_list, 'o', label='cellulose')\n",
    "ax.plot(xxx, h_list, 'o', label = 'hemicellulose')\n",
    "ax.plot(xxx, l_list, 'o', label = 'lignin')\n",
    "ax.plot(xxx, sum_list, 'o', label = 'sum')\n",
    "\n",
    "# for counter, (c, h, l, x) in enumerate(zip(c_list, h_list, l_list,xxx)):\n",
    "#     if counter == 0:\n",
    "#         ax.plot(x,c, 'o', color='black', label='cellulose')\n",
    "#         ax.plot(x, h, 'o', color = 'green', label = 'hemicellulose')\n",
    "#         ax.plot(x,l, 'o', color='red', label='lignin')\n",
    "#         ax.plot(x, l + c + h, color = 'orange', label ='sum')\n",
    "\n",
    "\n",
    "\n",
    "ax.plot(xxx, np.ones_like(xxx))\n",
    "ax.legend()\n"
   ]
  },
  {
   "cell_type": "code",
   "execution_count": null,
   "id": "7829d465",
   "metadata": {},
   "outputs": [],
   "source": []
  }
 ],
 "metadata": {
  "kernelspec": {
   "display_name": "Python 3 (ipykernel)",
   "language": "python",
   "name": "python3"
  },
  "language_info": {
   "codemirror_mode": {
    "name": "ipython",
    "version": 3
   },
   "file_extension": ".py",
   "mimetype": "text/x-python",
   "name": "python",
   "nbconvert_exporter": "python",
   "pygments_lexer": "ipython3",
   "version": "3.11.0"
  }
 },
 "nbformat": 4,
 "nbformat_minor": 5
}
