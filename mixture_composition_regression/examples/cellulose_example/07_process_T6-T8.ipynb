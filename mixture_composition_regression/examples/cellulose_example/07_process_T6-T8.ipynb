{
 "cells": [
  {
   "cell_type": "code",
   "execution_count": 13,
   "id": "9e481753-a6c4-4715-b6c6-d790b444821a",
   "metadata": {
    "tags": []
   },
   "outputs": [],
   "source": [
    "import pandas as pd\n",
    "from scipy.interpolate import griddata\n",
    "import pickle"
   ]
  },
  {
   "cell_type": "code",
   "execution_count": 14,
   "id": "dd120b73-e8c5-4400-acf1-1b6da05606db",
   "metadata": {
    "tags": []
   },
   "outputs": [],
   "source": [
    "def read_range_files(filenames:list):\n",
    "    ranges = []\n",
    "    \n",
    "    for f in filenames:\n",
    "        with open(f, 'r') as file:\n",
    "            ranges.append(file.readlines())\n",
    "        \n",
    "    ranges = [float(i.strip()) for row in ranges for i in row]\n",
    "    ranges = [[ranges[idx], ranges[idx+1]] for idx, i in enumerate(ranges) if idx % 2 == 0]\n",
    "    \n",
    "    return ranges\n",
    "\n",
    "def read_predictor_files(filenames:list):\n",
    "    \n",
    "    predictors = []\n",
    "    for f in predictor_files:\n",
    "        with open(f, 'rb') as file:\n",
    "            predictors.append(pickle.load(file))\n",
    "    return predictors"
   ]
  },
  {
   "cell_type": "code",
   "execution_count": 15,
   "id": "41cf4f13-2555-4c67-a690-aeaad06aea9d",
   "metadata": {
    "tags": []
   },
   "outputs": [],
   "source": [
    "predictor_files = ['cellulose_predictor.pkl', 'hemi_predictor.pkl', 'lignin_predictor.pkl']\n",
    "predictor_files = ['./trained_models/' + p for p in predictor_files]\n",
    "predictor_metadata_files = [p.split('.pkl')[0] + '_meta.txt' for p in predictor_files] "
   ]
  },
  {
   "cell_type": "code",
   "execution_count": 16,
   "id": "e698fed8-930b-461f-9b54-ba444dc6130c",
   "metadata": {
    "tags": []
   },
   "outputs": [],
   "source": [
    "ranges = read_range_files(predictor_metadata_files)\n",
    "predictors = read_predictor_files(predictor_files)\n",
    "containers = [[j,i] for i, j in zip(ranges, predictors)]\n",
    "c_container = containers[0]\n",
    "h_container = containers[1]\n",
    "l_container = containers[2]"
   ]
  },
  {
   "cell_type": "code",
   "execution_count": 17,
   "id": "54a870a7-4ae6-4b6d-9912-1bf445dbd146",
   "metadata": {
    "tags": []
   },
   "outputs": [
    {
     "data": {
      "text/plain": [
       "[KernelRidge(alpha=1e-07, gamma=15848.931924611108, kernel='rbf'),\n",
       " [1200.6086500000001, 1899.6086500000001]]"
      ]
     },
     "execution_count": 17,
     "metadata": {},
     "output_type": "execute_result"
    }
   ],
   "source": [
    "c_container"
   ]
  },
  {
   "cell_type": "code",
   "execution_count": null,
   "id": "1ecf27ca-5f91-47b1-9e3f-6e5f8a1b4861",
   "metadata": {},
   "outputs": [],
   "source": []
  }
 ],
 "metadata": {
  "kernelspec": {
   "display_name": "Python 3 (ipykernel)",
   "language": "python",
   "name": "python3"
  },
  "language_info": {
   "codemirror_mode": {
    "name": "ipython",
    "version": 3
   },
   "file_extension": ".py",
   "mimetype": "text/x-python",
   "name": "python",
   "nbconvert_exporter": "python",
   "pygments_lexer": "ipython3",
   "version": "3.11.0"
  }
 },
 "nbformat": 4,
 "nbformat_minor": 5
}
