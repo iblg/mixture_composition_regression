{
 "cells": [
  {
   "cell_type": "code",
   "execution_count": 1,
   "id": "d808f483-a183-416a-afa3-bc224068205f",
   "metadata": {
    "tags": []
   },
   "outputs": [],
   "source": [
    "import pickle\n",
    "import os\n",
    "import pandas as pd\n",
    "import numpy as np\n",
    "import matplotlib.pyplot as plt\n",
    "from scipy.interpolate import griddata\n",
    "from mixture_composition_regression.examples.cellulose_example.helper_functions import *\n",
    "from pathlib import Path"
   ]
  },
  {
   "cell_type": "markdown",
   "id": "e18a61b0",
   "metadata": {},
   "source": [
    "### Load models"
   ]
  },
  {
   "cell_type": "code",
   "execution_count": 2,
   "id": "94d0b5d8-71f7-420e-abce-b52fcbbb834f",
   "metadata": {
    "tags": []
   },
   "outputs": [],
   "source": [
    "predictor_files = ['cellulose_predictor.pkl', 'hemi_predictor.pkl', 'lignin_predictor.pkl']\n",
    "predictor_files = ['./trained_models/' + p for p in predictor_files]\n",
    "predictor_metadata_files = [p.split('.pkl')[0] + '_meta.txt' for p in predictor_files] \n",
    "\n",
    "ranges = read_range_files(predictor_metadata_files)\n",
    "predictors = read_predictor_files(predictor_files)\n",
    "containers = [[j,i] for i, j in zip(ranges, predictors)]\n",
    "c_container = containers[0]\n",
    "h_container = containers[1]\n",
    "l_container = containers[2]"
   ]
  },
  {
   "cell_type": "code",
   "execution_count": null,
   "id": "c122906f",
   "metadata": {},
   "outputs": [],
   "source": []
  },
  {
   "cell_type": "markdown",
   "id": "283492f2",
   "metadata": {},
   "source": [
    "### Read in data files"
   ]
  },
  {
   "cell_type": "code",
   "execution_count": 5,
   "id": "36dbe5d4",
   "metadata": {},
   "outputs": [],
   "source": [
    "p = Path('.').resolve() / 'data' # define the path to the current data\n",
    "files = p.rglob('*.CSV' and '*-*') # find all the files with *.CSV in their name and a dash (i.e. to exclude composition.csv)\n",
    "file_list = [str(file) for file in list(files)] # create a list with the string version of the filepath\n",
    "\n",
    "# creat a list of dataframes\n",
    "\n",
    "\n",
    "# Get the x coordinate that we want to re-grid our data onto. \n",
    "# This x coordinate *must* be the same as what the model was trained on.\n",
    "# In this case, the training data is in the same folder, so we can use the x coordinate of one of the\n",
    "# files as our xgrid.\n",
    "data = [pd.read_csv(file) for file in file_list]\n",
    "data = [df.rename(columns={df.columns[0]:'x', df.columns[1]:'y'}) for df in data]\n",
    "xgrid = data[0]['x'] \n"
   ]
  },
  {
   "cell_type": "code",
   "execution_count": 6,
   "id": "eaa626aa-1b31-499e-94ad-9f2caf168cbf",
   "metadata": {
    "tags": []
   },
   "outputs": [
    {
     "name": "stdout",
     "output_type": "stream",
     "text": [
      "Sample: T2-1\n",
      "predicted composition lignin 0.466\n",
      "predicted composition cellulose 0.339\n",
      "predicted composition hemicellulose 0.119\n",
      "Sample: T2-3\n",
      "predicted composition lignin 0.700\n",
      "predicted composition cellulose 0.173\n",
      "predicted composition hemicellulose 0.099\n",
      "Sample: T2-2\n",
      "predicted composition lignin 0.633\n",
      "predicted composition cellulose 0.257\n",
      "predicted composition hemicellulose 0.184\n",
      "Sample: T6-2\n",
      "predicted composition lignin -0.223\n",
      "predicted composition cellulose 0.449\n",
      "predicted composition hemicellulose 0.014\n",
      "Sample: T6-3\n",
      "predicted composition lignin -0.915\n",
      "predicted composition cellulose 0.076\n",
      "predicted composition hemicellulose -0.060\n",
      "Sample: T4-1\n",
      "predicted composition lignin 0.284\n",
      "predicted composition cellulose 0.203\n",
      "predicted composition hemicellulose 0.357\n",
      "Sample: T4-3\n",
      "predicted composition lignin 0.496\n",
      "predicted composition cellulose 0.061\n",
      "predicted composition hemicellulose 0.472\n",
      "Sample: T6-1\n",
      "predicted composition lignin -0.375\n",
      "predicted composition cellulose 0.410\n",
      "predicted composition hemicellulose -0.077\n",
      "Sample: T4-2\n",
      "predicted composition lignin 0.347\n",
      "predicted composition cellulose 0.120\n",
      "predicted composition hemicellulose 0.405\n",
      "Sample: T3-3\n",
      "predicted composition lignin 0.163\n",
      "predicted composition cellulose 0.257\n",
      "predicted composition hemicellulose 0.524\n",
      "Sample: T1-1\n",
      "predicted composition lignin 0.121\n",
      "predicted composition cellulose 0.428\n",
      "predicted composition hemicellulose 0.681\n",
      "Sample: T3-2\n",
      "predicted composition lignin 0.114\n",
      "predicted composition cellulose 0.334\n",
      "predicted composition hemicellulose 0.634\n",
      "Sample: T1-2\n",
      "predicted composition lignin 0.142\n",
      "predicted composition cellulose 0.376\n",
      "predicted composition hemicellulose 0.475\n",
      "Sample: T1-3\n",
      "predicted composition lignin 0.162\n",
      "predicted composition cellulose 0.243\n",
      "predicted composition hemicellulose 0.691\n",
      "Sample: T3-1\n",
      "predicted composition lignin 0.153\n",
      "predicted composition cellulose 0.410\n",
      "predicted composition hemicellulose 0.468\n",
      "Sample: T7-1\n",
      "predicted composition lignin -0.201\n",
      "predicted composition cellulose 0.367\n",
      "predicted composition hemicellulose 0.711\n",
      "Sample: T5-3\n",
      "predicted composition lignin 0.477\n",
      "predicted composition cellulose 0.076\n",
      "predicted composition hemicellulose 0.167\n",
      "Sample: T5-2\n",
      "predicted composition lignin 0.436\n",
      "predicted composition cellulose 0.126\n",
      "predicted composition hemicellulose 0.139\n",
      "Sample: T7-2\n",
      "predicted composition lignin -0.450\n",
      "predicted composition cellulose 0.102\n",
      "predicted composition hemicellulose 0.472\n",
      "Sample: T5-1\n",
      "predicted composition lignin 0.472\n",
      "predicted composition cellulose 0.057\n",
      "predicted composition hemicellulose 0.163\n",
      "Sample: T7-3\n",
      "predicted composition lignin -0.126\n",
      "predicted composition cellulose 0.244\n",
      "predicted composition hemicellulose 0.211\n",
      "Sample: T8-2\n",
      "predicted composition lignin -0.227\n",
      "predicted composition cellulose 0.396\n",
      "predicted composition hemicellulose -0.089\n",
      "Sample: T8-1\n",
      "predicted composition lignin -0.241\n",
      "predicted composition cellulose 0.392\n",
      "predicted composition hemicellulose -0.083\n"
     ]
    }
   ],
   "source": [
    "# files = p.rglob('*.CSV' and '*-*')\n",
    "# fpaths = [str(file) for file in list(files)]\n",
    "c_list, h_list, l_list = [], [], []\n",
    "sample_names = [i.split('.')[0].split('/')[-1] for i in file_list]\n",
    "regressand = 'da'\n",
    "for f, n in zip(file_list, sample_names):\n",
    "    \n",
    "    l = predict_on_test_csvs(f, l_container, regressand, 'lignin', sample_name=n, \n",
    "                             printres=True, xgrid=xgrid, print_sample=True)\n",
    "    l_list.append(l)\n",
    "    \n",
    "    c = predict_on_test_csvs(f, c_container, regressand, 'cellulose',sample_name=n, \n",
    "                             xgrid = xgrid,\n",
    "                             printres=True)\n",
    "    c_list.append(c)\n",
    "    \n",
    "    h = predict_on_test_csvs(f, h_container, regressand, 'hemicellulose',sample_name=n, \n",
    "                             xgrid = xgrid, printres=True)\n",
    "    h_list.append(h)\n"
   ]
  },
  {
   "cell_type": "code",
   "execution_count": 7,
   "id": "a7699415-e12f-45d1-acda-c9c4b879ea00",
   "metadata": {},
   "outputs": [
    {
     "data": {
      "text/plain": [
       "[0.11883140343335175,\n",
       " 0.09931611050524802,\n",
       " 0.18382854433949802,\n",
       " 0.014497000810912652,\n",
       " -0.059724562029515704,\n",
       " 0.35737488936021733,\n",
       " 0.4722829371776869,\n",
       " -0.07689059619481942,\n",
       " 0.4047921992139709,\n",
       " 0.523516496588706,\n",
       " 0.6811049475584094,\n",
       " 0.6342952455821715,\n",
       " 0.47497540775788294,\n",
       " 0.6911096635972733,\n",
       " 0.4676437163990741,\n",
       " 0.7112970402139769,\n",
       " 0.16716471684538514,\n",
       " 0.1392320707640875,\n",
       " 0.4718438618195939,\n",
       " 0.163402615849072,\n",
       " 0.21079345463045818,\n",
       " -0.08880360557277989,\n",
       " -0.08271016069858383]"
      ]
     },
     "execution_count": 7,
     "metadata": {},
     "output_type": "execute_result"
    }
   ],
   "source": [
    "h_list"
   ]
  },
  {
   "cell_type": "code",
   "execution_count": null,
   "id": "5d63f9fe",
   "metadata": {},
   "outputs": [],
   "source": []
  }
 ],
 "metadata": {
  "kernelspec": {
   "display_name": "Python 3 (ipykernel)",
   "language": "python",
   "name": "python3"
  },
  "language_info": {
   "codemirror_mode": {
    "name": "ipython",
    "version": 3
   },
   "file_extension": ".py",
   "mimetype": "text/x-python",
   "name": "python",
   "nbconvert_exporter": "python",
   "pygments_lexer": "ipython3",
   "version": "3.11.5"
  }
 },
 "nbformat": 4,
 "nbformat_minor": 5
}
