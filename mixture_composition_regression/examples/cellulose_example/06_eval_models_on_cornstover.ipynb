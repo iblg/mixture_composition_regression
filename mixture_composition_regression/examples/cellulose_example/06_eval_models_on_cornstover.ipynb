{
 "cells": [
  {
   "cell_type": "code",
   "execution_count": 1,
   "id": "d808f483-a183-416a-afa3-bc224068205f",
   "metadata": {
    "tags": []
   },
   "outputs": [],
   "source": [
    "import pickle\n",
    "import os\n",
    "import pandas as pd\n",
    "import numpy as np\n",
    "import matplotlib.pyplot as plt\n",
    "from scipy.interpolate import griddata\n",
    "from mixture_composition_regression.examples.cellulose_example.helper_functions import *\n",
    "from pathlib import Path"
   ]
  },
  {
   "cell_type": "markdown",
   "id": "e18a61b0",
   "metadata": {},
   "source": [
    "### Load models"
   ]
  },
  {
   "cell_type": "code",
   "execution_count": 2,
   "id": "94d0b5d8-71f7-420e-abce-b52fcbbb834f",
   "metadata": {
    "tags": []
   },
   "outputs": [],
   "source": [
    "predictor_files = ['cellulose_predictor.pkl', 'hemi_predictor.pkl', 'lignin_predictor.pkl']\n",
    "predictor_files = ['./trained_models/' + p for p in predictor_files]\n",
    "predictor_metadata_files = [p.split('.pkl')[0] + '_meta.txt' for p in predictor_files] \n",
    "\n",
    "ranges = read_range_files(predictor_metadata_files)\n",
    "predictors = read_predictor_files(predictor_files)\n",
    "containers = [[j,i] for i, j in zip(ranges, predictors)]\n",
    "c_container = containers[0]\n",
    "h_container = containers[1]\n",
    "l_container = containers[2]"
   ]
  },
  {
   "cell_type": "code",
   "execution_count": null,
   "id": "c122906f",
   "metadata": {},
   "outputs": [],
   "source": []
  },
  {
   "cell_type": "markdown",
   "id": "283492f2",
   "metadata": {},
   "source": [
    "### Read in data files"
   ]
  },
  {
   "cell_type": "code",
   "execution_count": 3,
   "id": "36dbe5d4",
   "metadata": {},
   "outputs": [],
   "source": [
    "p = Path('.').resolve() / 'data' # define the path to the current data\n",
    "files = p.rglob('*.CSV' and '*-*') # find all the files with *.CSV in their name and a dash (i.e. to exclude composition.csv)\n",
    "file_list = [str(file) for file in list(files)] # create a list with the string version of the filepath\n",
    "\n",
    "# creat a list of dataframes\n",
    "\n",
    "\n",
    "# Get the x coordinate that we want to re-grid our data onto. \n",
    "# This x coordinate *must* be the same as what the model was trained on.\n",
    "# In this case, the training data is in the same folder, so we can use the x coordinate of one of the\n",
    "# files as our xgrid.\n",
    "data = [pd.read_csv(file) for file in file_list]\n",
    "data = [df.rename(columns={df.columns[0]:'x', df.columns[1]:'y'}) for df in data]\n",
    "xgrid = data[0]['x'] \n"
   ]
  },
  {
   "cell_type": "code",
   "execution_count": 4,
   "id": "eaa626aa-1b31-499e-94ad-9f2caf168cbf",
   "metadata": {
    "tags": []
   },
   "outputs": [
    {
     "name": "stdout",
     "output_type": "stream",
     "text": [
      "Sample: T2-1\n",
      "predicted composition lignin 0.542\n",
      "predicted composition cellulose 0.320\n",
      "predicted composition hemicellulose 0.111\n",
      "Sample: T2-3\n",
      "predicted composition lignin 0.723\n",
      "predicted composition cellulose 0.212\n",
      "predicted composition hemicellulose -0.042\n",
      "Sample: T2-2\n",
      "predicted composition lignin 0.723\n",
      "predicted composition cellulose 0.306\n",
      "predicted composition hemicellulose 0.085\n",
      "Sample: T6-2\n",
      "predicted composition lignin -0.174\n",
      "predicted composition cellulose 0.434\n",
      "predicted composition hemicellulose 0.648\n",
      "Sample: T6-3\n",
      "predicted composition lignin -0.650\n",
      "predicted composition cellulose 0.760\n",
      "predicted composition hemicellulose 1.474\n",
      "Sample: T4-1\n",
      "predicted composition lignin 0.320\n",
      "predicted composition cellulose 0.298\n",
      "predicted composition hemicellulose 0.295\n",
      "Sample: T4-3\n",
      "predicted composition lignin 0.653\n",
      "predicted composition cellulose 0.179\n",
      "predicted composition hemicellulose 0.146\n",
      "Sample: T6-1\n",
      "predicted composition lignin -0.207\n",
      "predicted composition cellulose 0.541\n",
      "predicted composition hemicellulose 0.622\n",
      "Sample: T4-2\n",
      "predicted composition lignin 0.430\n",
      "predicted composition cellulose 0.258\n",
      "predicted composition hemicellulose 0.242\n",
      "Sample: T3-3\n",
      "predicted composition lignin 0.265\n",
      "predicted composition cellulose 0.266\n",
      "predicted composition hemicellulose 0.343\n",
      "Sample: T1-1\n",
      "predicted composition lignin 0.085\n",
      "predicted composition cellulose 0.355\n",
      "predicted composition hemicellulose 0.492\n",
      "Sample: T3-2\n",
      "predicted composition lignin 0.208\n",
      "predicted composition cellulose 0.333\n",
      "predicted composition hemicellulose 0.387\n",
      "Sample: T1-2\n",
      "predicted composition lignin 0.194\n",
      "predicted composition cellulose 0.272\n",
      "predicted composition hemicellulose 0.449\n",
      "Sample: T1-3\n",
      "predicted composition lignin 0.221\n",
      "predicted composition cellulose 0.235\n",
      "predicted composition hemicellulose 0.513\n",
      "Sample: T3-1\n",
      "predicted composition lignin 0.205\n",
      "predicted composition cellulose 0.370\n",
      "predicted composition hemicellulose 0.343\n",
      "Sample: T7-1\n",
      "predicted composition lignin -0.126\n",
      "predicted composition cellulose 0.344\n",
      "predicted composition hemicellulose 0.671\n",
      "Sample: T5-3\n",
      "predicted composition lignin 0.568\n",
      "predicted composition cellulose 0.214\n",
      "predicted composition hemicellulose 0.146\n",
      "Sample: T5-2\n",
      "predicted composition lignin 0.455\n",
      "predicted composition cellulose 0.253\n",
      "predicted composition hemicellulose 0.196\n",
      "Sample: T7-2\n",
      "predicted composition lignin -0.310\n",
      "predicted composition cellulose 0.412\n",
      "predicted composition hemicellulose 0.704\n",
      "Sample: T5-1\n",
      "predicted composition lignin 0.669\n",
      "predicted composition cellulose 0.243\n",
      "predicted composition hemicellulose 0.026\n",
      "Sample: T7-3\n",
      "predicted composition lignin -0.284\n",
      "predicted composition cellulose 0.315\n",
      "predicted composition hemicellulose 0.564\n",
      "Sample: T8-2\n",
      "predicted composition lignin -0.265\n",
      "predicted composition cellulose 0.524\n",
      "predicted composition hemicellulose 0.402\n",
      "Sample: T8-1\n",
      "predicted composition lignin -0.285\n",
      "predicted composition cellulose 0.528\n",
      "predicted composition hemicellulose 0.361\n"
     ]
    }
   ],
   "source": [
    "# files = p.rglob('*.CSV' and '*-*')\n",
    "# fpaths = [str(file) for file in list(files)]\n",
    "c_list, h_list, l_list = [], [], []\n",
    "sample_names = [i.split('.')[0].split('/')[-1] for i in file_list]\n",
    "regressand = 'da'\n",
    "for f, n in zip(file_list, sample_names):\n",
    "    \n",
    "    l = predict_on_test_csvs(f, l_container, regressand, 'lignin', sample_name=n, \n",
    "                             printres=True, xgrid=xgrid, print_sample=True)\n",
    "    l_list.append(l)\n",
    "    \n",
    "    c = predict_on_test_csvs(f, c_container, regressand, 'cellulose',sample_name=n, \n",
    "                             xgrid = xgrid,\n",
    "                             printres=True)\n",
    "    c_list.append(c)\n",
    "    \n",
    "    h = predict_on_test_csvs(f, h_container, regressand, 'hemicellulose',sample_name=n, \n",
    "                             xgrid = xgrid, printres=True)\n",
    "    h_list.append(h)\n"
   ]
  },
  {
   "cell_type": "code",
   "execution_count": 5,
   "id": "a7699415-e12f-45d1-acda-c9c4b879ea00",
   "metadata": {},
   "outputs": [
    {
     "data": {
      "text/plain": [
       "[0.11148708376677083,\n",
       " -0.041539163256267664,\n",
       " 0.08546475232822473,\n",
       " 0.6478641250537006,\n",
       " 1.47412161625826,\n",
       " 0.29464558152375936,\n",
       " 0.1456686723073324,\n",
       " 0.6217946121625197,\n",
       " 0.24207842646643238,\n",
       " 0.3427904920292675,\n",
       " 0.491973355774596,\n",
       " 0.38691271919039477,\n",
       " 0.4486038848687533,\n",
       " 0.5131299732690165,\n",
       " 0.34325488672969606,\n",
       " 0.6706717281066712,\n",
       " 0.14639589469835368,\n",
       " 0.19602295736657027,\n",
       " 0.7043913851568123,\n",
       " 0.025602825046464384,\n",
       " 0.5638744342172191,\n",
       " 0.40239462855739083,\n",
       " 0.3612796135195795]"
      ]
     },
     "execution_count": 5,
     "metadata": {},
     "output_type": "execute_result"
    }
   ],
   "source": [
    "h_list"
   ]
  },
  {
   "cell_type": "code",
   "execution_count": null,
   "id": "5d63f9fe",
   "metadata": {},
   "outputs": [],
   "source": []
  }
 ],
 "metadata": {
  "kernelspec": {
   "display_name": "Python 3 (ipykernel)",
   "language": "python",
   "name": "python3"
  },
  "language_info": {
   "codemirror_mode": {
    "name": "ipython",
    "version": 3
   },
   "file_extension": ".py",
   "mimetype": "text/x-python",
   "name": "python",
   "nbconvert_exporter": "python",
   "pygments_lexer": "ipython3",
   "version": "3.11.5"
  }
 },
 "nbformat": 4,
 "nbformat_minor": 5
}
